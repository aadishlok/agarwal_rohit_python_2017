{
 "cells": [
  {
   "cell_type": "markdown",
   "metadata": {},
   "source": [
    "## Percentage shift on Weather & Stock.\n",
    "\n",
    "     - This Analysis is to find the Anual Percentage shift on Weather & Stock.\n",
    "     - Analysed Weather (Temp) OIL, SOLAR, WIND company stock in order to find Annual Mean for all years.\n",
    "     - Calculated Standard Deviation & Mean in order to find relation.\n",
    "     - Performed The comparable analyses of the standard deviation of weather, oil, solar and wind."
   ]
  },
  {
   "cell_type": "markdown",
   "metadata": {},
   "source": [
    "#### Imported all required Packages \n",
    "    - Pandas\n",
    "    - Numpy\n",
    "    - Matplotlib\n",
    "    - Seaborn\n",
    "    - OS\n",
    "    - Plotly Offline"
   ]
  },
  {
   "cell_type": "code",
   "execution_count": 1,
   "metadata": {},
   "outputs": [
    {
     "data": {
      "text/html": [
       "<script>requirejs.config({paths: { 'plotly': ['https://cdn.plot.ly/plotly-latest.min']},});if(!window.Plotly) {{require(['plotly'],function(plotly) {window.Plotly=plotly;});}}</script>"
      ],
      "text/vnd.plotly.v1+html": [
       "<script>requirejs.config({paths: { 'plotly': ['https://cdn.plot.ly/plotly-latest.min']},});if(!window.Plotly) {{require(['plotly'],function(plotly) {window.Plotly=plotly;});}}</script>"
      ]
     },
     "metadata": {},
     "output_type": "display_data"
    }
   ],
   "source": [
    "import pandas as pd\n",
    "import os\n",
    "from plotly.offline import download_plotlyjs, init_notebook_mode, plot, iplot\n",
    "init_notebook_mode(connected=True)\n",
    "import plotly.graph_objs as go\n",
    "import matplotlib.pyplot as plt\n",
    "import seaborn as sns\n",
    "sns.set_style('whitegrid')\n",
    "%matplotlib inline\n",
    "# Offsetting the warning\n",
    "import warnings\n",
    "warnings.filterwarnings('ignore')\n",
    "import numpy as np\n",
    "import plotly.plotly as py\n",
    "import shutil"
   ]
  },
  {
   "cell_type": "markdown",
   "metadata": {},
   "source": [
    "#### Data Processing\n",
    "    - Read all required CSV file for weather, oil, wind, solar using pandas.\n",
    "    - created seperate dataframes for seperate CSV.\n",
    "    - As CSV contains dates so I parsed it while reading using parse_dates."
   ]
  },
  {
   "cell_type": "code",
   "execution_count": 2,
   "metadata": {},
   "outputs": [],
   "source": [
    "# Getting Current Working Directory\n",
    "cwd = os.getcwd()\n",
    "\n",
    "# Reading all required CSV's\n",
    "cvx = pd.read_csv(cwd+\"//final//data//stockData//CVX.csv\", parse_dates=['Date'])\n",
    "fslr = pd.read_csv(cwd+\"//final//data//stockData//FSLR.csv\", parse_dates=['Date'])\n",
    "vws = pd.read_csv(cwd+\"//final//extra//VWS.csv\", parse_dates=['Date'])\n",
    "vws['company_code'] = 'VWS'\n",
    "weather = pd.read_csv(cwd+\"//final//data//WeatherData//weather.csv\", parse_dates=['Date'])"
   ]
  },
  {
   "cell_type": "markdown",
   "metadata": {},
   "source": [
    "#### Merging CSV\n",
    "    - Task is to merge all csv outerly on Date Column\n",
    "    - Saving the final CSV in Analysis 2 Folder for final Analysis."
   ]
  },
  {
   "cell_type": "code",
   "execution_count": 3,
   "metadata": {
    "collapsed": true
   },
   "outputs": [],
   "source": [
    "# Merging all csv's togeather\n",
    "mergeSW = pd.merge(cvx, weather, how='outer', on='Date')\n",
    "merge1 = pd.merge(mergeSW, fslr, how='outer', on='Date')\n",
    "df = pd.merge(merge1, vws, how='outer', on='Date')\n",
    "df.to_csv(cwd+\"//final//extra//weatherStock.csv\", index=False)"
   ]
  },
  {
   "cell_type": "markdown",
   "metadata": {},
   "source": [
    "#### Filtering Data\n",
    "    - As I have less data for 2017.\n",
    "    - So, I filtered out the 2017 data from date column."
   ]
  },
  {
   "cell_type": "code",
   "execution_count": 4,
   "metadata": {
    "collapsed": true
   },
   "outputs": [],
   "source": [
    "df = pd.read_csv(cwd+\"//final//extra//weatherStock.csv\", parse_dates=['Date'])\n",
    "df = df.sort(['Date'], ascending=[1])\n",
    "df = df[df.Date.dt.year != 2017]\n",
    "df = df.dropna()"
   ]
  },
  {
   "cell_type": "markdown",
   "metadata": {},
   "source": [
    "#### created function in order to save data in required directories"
   ]
  },
  {
   "cell_type": "code",
   "execution_count": 5,
   "metadata": {
    "collapsed": true
   },
   "outputs": [],
   "source": [
    "#function to check is directory exists\n",
    "def funCheckDir(path):\n",
    "    directory = os.path.dirname(path) # defining directory path\n",
    "    if not os.path.exists(directory): # checking if directory already exists\n",
    "        os.makedirs(directory) # making a directory"
   ]
  },
  {
   "cell_type": "code",
   "execution_count": 6,
   "metadata": {
    "collapsed": true
   },
   "outputs": [],
   "source": [
    "resultsPath = cwd+'\\\\final\\\\analysis\\\\ana_[1-3]//Analysis 2//stockWeather.csv'\n",
    "funCheckDir(resultsPath)\n",
    "\n",
    "# Saving CSV for Analysis\n",
    "df.to_csv(resultsPath, index=False)"
   ]
  },
  {
   "cell_type": "markdown",
   "metadata": {},
   "source": [
    "#### This how the data from merge CSV looks like.\n",
    "    - THE FOLLOWING COLUMNS ARE-\n",
    "        - MAX Temp - Maximun Tempearture for the day.\n",
    "        - OPEN - is the price of the stock at the beginning of the trading day (it need not be the closing price of the previous trading day),\n",
    "        - HIGH - is the highest price of the stock on that trading day\n",
    "        - LOW - the lowest price of the stock on that trading day, and close the price of the stock at closing time.\n",
    "        - VOLUME - indicates how many stocks were traded. \n",
    "        - ADJ CLOSE - is the closing price of the stock that adjusts the price of the stock for corporate actions."
   ]
  },
  {
   "cell_type": "code",
   "execution_count": 7,
   "metadata": {},
   "outputs": [
    {
     "data": {
      "text/html": [
       "<div>\n",
       "<table border=\"1\" class=\"dataframe\">\n",
       "  <thead>\n",
       "    <tr style=\"text-align: right;\">\n",
       "      <th></th>\n",
       "      <th>Date</th>\n",
       "      <th>company_code_x</th>\n",
       "      <th>Open_x</th>\n",
       "      <th>High_x</th>\n",
       "      <th>Low_x</th>\n",
       "      <th>Close_x</th>\n",
       "      <th>Volume_x</th>\n",
       "      <th>Ex-Dividend_x</th>\n",
       "      <th>Split Ratio_x</th>\n",
       "      <th>Adj. Open_x</th>\n",
       "      <th>...</th>\n",
       "      <th>Adj. Low_y</th>\n",
       "      <th>Adj. Close_y</th>\n",
       "      <th>Adj. Volume_y</th>\n",
       "      <th>Open</th>\n",
       "      <th>High</th>\n",
       "      <th>Low</th>\n",
       "      <th>Close</th>\n",
       "      <th>Volume</th>\n",
       "      <th>Adj Close</th>\n",
       "      <th>company_code</th>\n",
       "    </tr>\n",
       "  </thead>\n",
       "  <tbody>\n",
       "    <tr>\n",
       "      <th>0</th>\n",
       "      <td>2012-01-03</td>\n",
       "      <td>CVX</td>\n",
       "      <td>108.74</td>\n",
       "      <td>110.99</td>\n",
       "      <td>108.73</td>\n",
       "      <td>110.37</td>\n",
       "      <td>11518700.0</td>\n",
       "      <td>0.0</td>\n",
       "      <td>1.0</td>\n",
       "      <td>89.228418</td>\n",
       "      <td>...</td>\n",
       "      <td>34.7601</td>\n",
       "      <td>35.79</td>\n",
       "      <td>4438700.0</td>\n",
       "      <td>69.45</td>\n",
       "      <td>69.9</td>\n",
       "      <td>68.05</td>\n",
       "      <td>69.6</td>\n",
       "      <td>2605900.0</td>\n",
       "      <td>66.52</td>\n",
       "      <td>VWS</td>\n",
       "    </tr>\n",
       "  </tbody>\n",
       "</table>\n",
       "<p>1 rows × 38 columns</p>\n",
       "</div>"
      ],
      "text/plain": [
       "        Date company_code_x  Open_x  High_x   Low_x  Close_x    Volume_x  \\\n",
       "0 2012-01-03            CVX  108.74  110.99  108.73   110.37  11518700.0   \n",
       "\n",
       "   Ex-Dividend_x  Split Ratio_x  Adj. Open_x      ...       Adj. Low_y  \\\n",
       "0            0.0            1.0    89.228418      ...          34.7601   \n",
       "\n",
       "   Adj. Close_y  Adj. Volume_y   Open  High    Low  Close     Volume  \\\n",
       "0         35.79      4438700.0  69.45  69.9  68.05   69.6  2605900.0   \n",
       "\n",
       "  Adj Close  company_code  \n",
       "0     66.52           VWS  \n",
       "\n",
       "[1 rows x 38 columns]"
      ]
     },
     "execution_count": 7,
     "metadata": {},
     "output_type": "execute_result"
    }
   ],
   "source": [
    "df = pd.read_csv(cwd+'\\\\final\\\\analysis\\\\ana_[1-3]//Analysis 2//stockWeather.csv', parse_dates=['Date'])\n",
    "df = df.sort(['Date'], ascending=[1])\n",
    "df.head(1)"
   ]
  },
  {
   "cell_type": "markdown",
   "metadata": {},
   "source": [
    "#### Now Finding a mean for each company stock & weater with related to past dates.\n",
    "    - USED MEAN function from pandas."
   ]
  },
  {
   "cell_type": "code",
   "execution_count": 8,
   "metadata": {},
   "outputs": [
    {
     "data": {
      "text/html": [
       "<div>\n",
       "<table border=\"1\" class=\"dataframe\">\n",
       "  <thead>\n",
       "    <tr style=\"text-align: right;\">\n",
       "      <th></th>\n",
       "      <th>Date</th>\n",
       "      <th>Open_x</th>\n",
       "      <th>High_x</th>\n",
       "      <th>Low_x</th>\n",
       "      <th>Close_x</th>\n",
       "      <th>Volume_x</th>\n",
       "      <th>Ex-Dividend_x</th>\n",
       "      <th>Split Ratio_x</th>\n",
       "      <th>Adj. Open_x</th>\n",
       "      <th>Adj. High_x</th>\n",
       "      <th>...</th>\n",
       "      <th>Adj. High_y</th>\n",
       "      <th>Adj. Low_y</th>\n",
       "      <th>Adj. Close_y</th>\n",
       "      <th>Adj. Volume_y</th>\n",
       "      <th>Open</th>\n",
       "      <th>High</th>\n",
       "      <th>Low</th>\n",
       "      <th>Close</th>\n",
       "      <th>Volume</th>\n",
       "      <th>Adj Close</th>\n",
       "    </tr>\n",
       "  </thead>\n",
       "  <tbody>\n",
       "    <tr>\n",
       "      <th>0</th>\n",
       "      <td>2012</td>\n",
       "      <td>107.520480</td>\n",
       "      <td>108.259312</td>\n",
       "      <td>106.733375</td>\n",
       "      <td>107.552106</td>\n",
       "      <td>6.491130e+06</td>\n",
       "      <td>0.014040</td>\n",
       "      <td>1.0</td>\n",
       "      <td>89.711420</td>\n",
       "      <td>90.327807</td>\n",
       "      <td>...</td>\n",
       "      <td>25.141080</td>\n",
       "      <td>23.711366</td>\n",
       "      <td>24.339344</td>\n",
       "      <td>6.071357e+06</td>\n",
       "      <td>41.602080</td>\n",
       "      <td>42.519520</td>\n",
       "      <td>40.414520</td>\n",
       "      <td>41.332720</td>\n",
       "      <td>2.986178e+06</td>\n",
       "      <td>39.506400</td>\n",
       "    </tr>\n",
       "    <tr>\n",
       "      <th>1</th>\n",
       "      <td>2013</td>\n",
       "      <td>120.181295</td>\n",
       "      <td>120.864837</td>\n",
       "      <td>119.449110</td>\n",
       "      <td>120.214625</td>\n",
       "      <td>5.719474e+06</td>\n",
       "      <td>0.015538</td>\n",
       "      <td>1.0</td>\n",
       "      <td>103.653307</td>\n",
       "      <td>104.242726</td>\n",
       "      <td>...</td>\n",
       "      <td>44.067903</td>\n",
       "      <td>42.076196</td>\n",
       "      <td>43.012023</td>\n",
       "      <td>5.637390e+06</td>\n",
       "      <td>91.961793</td>\n",
       "      <td>93.722908</td>\n",
       "      <td>90.256414</td>\n",
       "      <td>91.975817</td>\n",
       "      <td>2.403818e+06</td>\n",
       "      <td>87.912311</td>\n",
       "    </tr>\n",
       "    <tr>\n",
       "      <th>2</th>\n",
       "      <td>2014</td>\n",
       "      <td>120.550575</td>\n",
       "      <td>121.310721</td>\n",
       "      <td>119.660554</td>\n",
       "      <td>120.513651</td>\n",
       "      <td>6.529323e+06</td>\n",
       "      <td>0.016706</td>\n",
       "      <td>1.0</td>\n",
       "      <td>107.535776</td>\n",
       "      <td>108.215092</td>\n",
       "      <td>...</td>\n",
       "      <td>61.349471</td>\n",
       "      <td>59.104154</td>\n",
       "      <td>60.176702</td>\n",
       "      <td>3.344717e+06</td>\n",
       "      <td>229.689683</td>\n",
       "      <td>233.047619</td>\n",
       "      <td>225.465079</td>\n",
       "      <td>229.085714</td>\n",
       "      <td>2.565102e+06</td>\n",
       "      <td>218.964484</td>\n",
       "    </tr>\n",
       "    <tr>\n",
       "      <th>3</th>\n",
       "      <td>2015</td>\n",
       "      <td>96.378452</td>\n",
       "      <td>97.306379</td>\n",
       "      <td>95.392833</td>\n",
       "      <td>96.362579</td>\n",
       "      <td>9.248215e+06</td>\n",
       "      <td>0.016984</td>\n",
       "      <td>1.0</td>\n",
       "      <td>89.254428</td>\n",
       "      <td>90.116736</td>\n",
       "      <td>...</td>\n",
       "      <td>53.263433</td>\n",
       "      <td>51.501807</td>\n",
       "      <td>52.382381</td>\n",
       "      <td>2.380509e+06</td>\n",
       "      <td>344.663492</td>\n",
       "      <td>348.623016</td>\n",
       "      <td>340.403571</td>\n",
       "      <td>344.638095</td>\n",
       "      <td>1.674890e+06</td>\n",
       "      <td>333.070675</td>\n",
       "    </tr>\n",
       "    <tr>\n",
       "      <th>4</th>\n",
       "      <td>2016</td>\n",
       "      <td>99.757579</td>\n",
       "      <td>100.677525</td>\n",
       "      <td>98.866806</td>\n",
       "      <td>99.873651</td>\n",
       "      <td>8.054697e+06</td>\n",
       "      <td>0.017024</td>\n",
       "      <td>1.0</td>\n",
       "      <td>96.905301</td>\n",
       "      <td>97.795817</td>\n",
       "      <td>...</td>\n",
       "      <td>50.057976</td>\n",
       "      <td>48.223058</td>\n",
       "      <td>49.048274</td>\n",
       "      <td>2.773531e+06</td>\n",
       "      <td>471.535317</td>\n",
       "      <td>476.378968</td>\n",
       "      <td>465.685714</td>\n",
       "      <td>470.562698</td>\n",
       "      <td>1.057995e+06</td>\n",
       "      <td>461.092857</td>\n",
       "    </tr>\n",
       "  </tbody>\n",
       "</table>\n",
       "<p>5 rows × 34 columns</p>\n",
       "</div>"
      ],
      "text/plain": [
       "   Date      Open_x      High_x       Low_x     Close_x      Volume_x  \\\n",
       "0  2012  107.520480  108.259312  106.733375  107.552106  6.491130e+06   \n",
       "1  2013  120.181295  120.864837  119.449110  120.214625  5.719474e+06   \n",
       "2  2014  120.550575  121.310721  119.660554  120.513651  6.529323e+06   \n",
       "3  2015   96.378452   97.306379   95.392833   96.362579  9.248215e+06   \n",
       "4  2016   99.757579  100.677525   98.866806   99.873651  8.054697e+06   \n",
       "\n",
       "   Ex-Dividend_x  Split Ratio_x  Adj. Open_x  Adj. High_x     ...      \\\n",
       "0       0.014040            1.0    89.711420    90.327807     ...       \n",
       "1       0.015538            1.0   103.653307   104.242726     ...       \n",
       "2       0.016706            1.0   107.535776   108.215092     ...       \n",
       "3       0.016984            1.0    89.254428    90.116736     ...       \n",
       "4       0.017024            1.0    96.905301    97.795817     ...       \n",
       "\n",
       "   Adj. High_y  Adj. Low_y  Adj. Close_y  Adj. Volume_y        Open  \\\n",
       "0    25.141080   23.711366     24.339344   6.071357e+06   41.602080   \n",
       "1    44.067903   42.076196     43.012023   5.637390e+06   91.961793   \n",
       "2    61.349471   59.104154     60.176702   3.344717e+06  229.689683   \n",
       "3    53.263433   51.501807     52.382381   2.380509e+06  344.663492   \n",
       "4    50.057976   48.223058     49.048274   2.773531e+06  471.535317   \n",
       "\n",
       "         High         Low       Close        Volume   Adj Close  \n",
       "0   42.519520   40.414520   41.332720  2.986178e+06   39.506400  \n",
       "1   93.722908   90.256414   91.975817  2.403818e+06   87.912311  \n",
       "2  233.047619  225.465079  229.085714  2.565102e+06  218.964484  \n",
       "3  348.623016  340.403571  344.638095  1.674890e+06  333.070675  \n",
       "4  476.378968  465.685714  470.562698  1.057995e+06  461.092857  \n",
       "\n",
       "[5 rows x 34 columns]"
      ]
     },
     "execution_count": 8,
     "metadata": {},
     "output_type": "execute_result"
    }
   ],
   "source": [
    "# Calculating Mean for each year in order to plot\n",
    "dfMeanYear = df.groupby([df.Date.dt.year]).mean()\n",
    "dfMeanYear = dfMeanYear.reset_index()\n",
    "dfMeanYear.head()"
   ]
  },
  {
   "cell_type": "markdown",
   "metadata": {},
   "source": [
    "### Now we can compare the mean of stocks & weather and infer some information."
   ]
  },
  {
   "cell_type": "code",
   "execution_count": 10,
   "metadata": {},
   "outputs": [
    {
     "data": {
      "application/vnd.plotly.v1+json": {
       "data": [
        {
         "name": "Weather",
         "type": "bar",
         "x": [
          2012,
          2013,
          2014,
          2015,
          2016
         ],
         "y": [
          163.12,
          155.1792828685259,
          147.1031746031746,
          156.19047619047618,
          167.46031746031747
         ]
        },
        {
         "name": "SOLAR",
         "type": "bar",
         "x": [
          2012,
          2013,
          2014,
          2015,
          2016
         ],
         "y": [
          24.339343599999985,
          43.01202270916339,
          60.176702380952406,
          52.38238095238096,
          49.04827380952382
         ]
        },
        {
         "name": "OIL",
         "type": "bar",
         "x": [
          2012,
          2013,
          2014,
          2015,
          2016
         ],
         "y": [
          89.73761908736664,
          103.68171447902502,
          107.50311573438835,
          89.24113711818804,
          97.01735751530757
         ]
        },
        {
         "name": "WIND",
         "type": "bar",
         "x": [
          2012,
          2013,
          2014,
          2015,
          2016
         ],
         "y": [
          39.506399999999985,
          87.91231075697215,
          218.96448412698422,
          333.07067460317467,
          461.09285714285744
         ]
        }
       ],
       "layout": {
        "barmode": "group",
        "title": "Annual Mean Weather VS Stock"
       }
      },
      "text/html": [
       "<div id=\"066da034-4055-472e-8712-8b594ed9fc76\" style=\"height: 525px; width: 100%;\" class=\"plotly-graph-div\"></div><script type=\"text/javascript\">require([\"plotly\"], function(Plotly) { window.PLOTLYENV=window.PLOTLYENV || {};window.PLOTLYENV.BASE_URL=\"https://plot.ly\";Plotly.newPlot(\"066da034-4055-472e-8712-8b594ed9fc76\", [{\"x\": [2012, 2013, 2014, 2015, 2016], \"name\": \"Weather\", \"type\": \"bar\", \"y\": [163.12, 155.1792828685259, 147.1031746031746, 156.19047619047618, 167.46031746031747]}, {\"x\": [2012, 2013, 2014, 2015, 2016], \"name\": \"SOLAR\", \"type\": \"bar\", \"y\": [24.339343599999985, 43.01202270916339, 60.176702380952406, 52.38238095238096, 49.04827380952382]}, {\"x\": [2012, 2013, 2014, 2015, 2016], \"name\": \"OIL\", \"type\": \"bar\", \"y\": [89.73761908736664, 103.68171447902502, 107.50311573438835, 89.24113711818804, 97.01735751530757]}, {\"x\": [2012, 2013, 2014, 2015, 2016], \"name\": \"WIND\", \"type\": \"bar\", \"y\": [39.506399999999985, 87.91231075697215, 218.96448412698422, 333.07067460317467, 461.09285714285744]}], {\"title\": \"Annual Mean Weather VS Stock\", \"barmode\": \"group\"}, {\"showLink\": true, \"linkText\": \"Export to plot.ly\"})});</script>"
      ],
      "text/vnd.plotly.v1+html": [
       "<div id=\"066da034-4055-472e-8712-8b594ed9fc76\" style=\"height: 525px; width: 100%;\" class=\"plotly-graph-div\"></div><script type=\"text/javascript\">require([\"plotly\"], function(Plotly) { window.PLOTLYENV=window.PLOTLYENV || {};window.PLOTLYENV.BASE_URL=\"https://plot.ly\";Plotly.newPlot(\"066da034-4055-472e-8712-8b594ed9fc76\", [{\"x\": [2012, 2013, 2014, 2015, 2016], \"name\": \"Weather\", \"type\": \"bar\", \"y\": [163.12, 155.1792828685259, 147.1031746031746, 156.19047619047618, 167.46031746031747]}, {\"x\": [2012, 2013, 2014, 2015, 2016], \"name\": \"SOLAR\", \"type\": \"bar\", \"y\": [24.339343599999985, 43.01202270916339, 60.176702380952406, 52.38238095238096, 49.04827380952382]}, {\"x\": [2012, 2013, 2014, 2015, 2016], \"name\": \"OIL\", \"type\": \"bar\", \"y\": [89.73761908736664, 103.68171447902502, 107.50311573438835, 89.24113711818804, 97.01735751530757]}, {\"x\": [2012, 2013, 2014, 2015, 2016], \"name\": \"WIND\", \"type\": \"bar\", \"y\": [39.506399999999985, 87.91231075697215, 218.96448412698422, 333.07067460317467, 461.09285714285744]}], {\"title\": \"Annual Mean Weather VS Stock\", \"barmode\": \"group\"}, {\"showLink\": true, \"linkText\": \"Export to plot.ly\"})});</script>"
      ]
     },
     "metadata": {},
     "output_type": "display_data"
    },
    {
     "data": {
      "text/plain": [
       "'C:\\\\Users\\\\rohit//final//analysis//ana_[1-3]//Analysis 1//Mean.png'"
      ]
     },
     "execution_count": 10,
     "metadata": {},
     "output_type": "execute_result"
    }
   ],
   "source": [
    "weather = go.Bar(\n",
    "    x=dfMeanYear.Date,\n",
    "    y=dfMeanYear['Max Temp'] * 10,\n",
    "    name='Weather'\n",
    ")\n",
    "cvxStock = go.Bar(\n",
    "    x=dfMeanYear.Date,\n",
    "    y=dfMeanYear['Adj. Close_x'],\n",
    "    name='OIL'\n",
    ")\n",
    "\n",
    "fslrStock = go.Bar(\n",
    "    x=dfMeanYear.Date,\n",
    "    y=dfMeanYear['Adj. Close_y'],\n",
    "    name='SOLAR'\n",
    ")\n",
    "\n",
    "vwsStock = go.Bar(\n",
    "    x=dfMeanYear.Date,\n",
    "    y=dfMeanYear['Adj Close'],\n",
    "    name='WIND'\n",
    ")\n",
    "\n",
    "data = [weather, fslrStock, cvxStock, vwsStock]\n",
    "layout = go.Layout(\n",
    "    barmode='group',\n",
    "    title = \"Annual Mean Weather VS Stock\"\n",
    ")\n",
    "\n",
    "fig = go.Figure(data=data, layout=layout)\n",
    "py.image.save_as(fig, 'Mean.png')\n",
    "iplot(fig, filename='grouped-bar')\n",
    "\n",
    "#moving saved file\n",
    "shutil.move(cwd+\"//Mean.png\", cwd+\"//final//analysis//ana_[1-3]//Analysis 1//Mean.png\")"
   ]
  },
  {
   "cell_type": "markdown",
   "metadata": {
    "collapsed": true
   },
   "source": [
    "### Result from above graph.\n",
    "\n",
    "- The above plot describes the comparative study of annual means of stock situation of renewable and non- renewable energy companies gainst the annual means of temperatures. \n",
    "    \n",
    "- The scale of weather means has been increased 100 times to provide a consistent visualization of accumulated data.\n",
    "\n",
    "- The study shows a stagnancy in the rise of non-renewable energy (oil) company's stock. \n",
    "    \n",
    "- When the global oil dependancy is put under the microscope, it is realized that means of transport throughout the world depend on oil as fuel source. \n",
    "    \n",
    "- Electricity supplied throughout the country through power plants is generated using similar means. \n",
    "    \n",
    "- The past decade has seen a steep rise in global temperatures and ancient and historical environmental studies have painted  a grim picture revealing the current timeline to be the warmest.\n",
    "\n",
    "- Global Warming has motivated nations globally to shift to renewable energies like wind and solar to compensate \n",
    " for the requirement of energy sources. \n",
    "\n",
    "- The above plot reflects a magnanimous rise in wind power and solar power. \n",
    "    \n",
    "- The inference is made by studying the stocks of the two leading wind and solar energy companies. Although the rise of solar is consistently progressing, wind power consumption as a means to produce energy has shot through the roof. Oil meanwhile has simultaneously regressed. \n",
    "    \n",
    "- The rise in weather can be clearly marked from 2012, when the mean was meandering about 0.65, to 2016, when the mean has mounted to 0.94."
   ]
  },
  {
   "cell_type": "markdown",
   "metadata": {},
   "source": [
    "#### Creating a new Data Frame with merging all means of weather & stock."
   ]
  },
  {
   "cell_type": "code",
   "execution_count": 50,
   "metadata": {},
   "outputs": [
    {
     "data": {
      "text/html": [
       "<div>\n",
       "<table border=\"1\" class=\"dataframe\">\n",
       "  <thead>\n",
       "    <tr style=\"text-align: right;\">\n",
       "      <th></th>\n",
       "      <th>CVX</th>\n",
       "      <th>Date</th>\n",
       "      <th>FSLR</th>\n",
       "      <th>VWS</th>\n",
       "      <th>Weather</th>\n",
       "    </tr>\n",
       "  </thead>\n",
       "  <tbody>\n",
       "    <tr>\n",
       "      <th>0</th>\n",
       "      <td>90.565942</td>\n",
       "      <td>2012-01-03</td>\n",
       "      <td>35.79</td>\n",
       "      <td>66.52</td>\n",
       "      <td>2.0</td>\n",
       "    </tr>\n",
       "    <tr>\n",
       "      <th>1</th>\n",
       "      <td>90.410034</td>\n",
       "      <td>2012-01-04</td>\n",
       "      <td>34.70</td>\n",
       "      <td>53.76</td>\n",
       "      <td>-2.0</td>\n",
       "    </tr>\n",
       "    <tr>\n",
       "      <th>2</th>\n",
       "      <td>89.523822</td>\n",
       "      <td>2012-01-05</td>\n",
       "      <td>35.48</td>\n",
       "      <td>52.57</td>\n",
       "      <td>0.0</td>\n",
       "    </tr>\n",
       "    <tr>\n",
       "      <th>3</th>\n",
       "      <td>88.875574</td>\n",
       "      <td>2012-01-06</td>\n",
       "      <td>35.27</td>\n",
       "      <td>53.67</td>\n",
       "      <td>9.0</td>\n",
       "    </tr>\n",
       "    <tr>\n",
       "      <th>4</th>\n",
       "      <td>89.843843</td>\n",
       "      <td>2012-01-09</td>\n",
       "      <td>36.84</td>\n",
       "      <td>55.68</td>\n",
       "      <td>4.0</td>\n",
       "    </tr>\n",
       "    <tr>\n",
       "      <th>5</th>\n",
       "      <td>89.490999</td>\n",
       "      <td>2012-01-10</td>\n",
       "      <td>38.77</td>\n",
       "      <td>58.45</td>\n",
       "      <td>8.0</td>\n",
       "    </tr>\n",
       "    <tr>\n",
       "      <th>6</th>\n",
       "      <td>88.432468</td>\n",
       "      <td>2012-01-11</td>\n",
       "      <td>41.80</td>\n",
       "      <td>60.17</td>\n",
       "      <td>3.0</td>\n",
       "    </tr>\n",
       "    <tr>\n",
       "      <th>7</th>\n",
       "      <td>86.134882</td>\n",
       "      <td>2012-01-12</td>\n",
       "      <td>41.59</td>\n",
       "      <td>55.92</td>\n",
       "      <td>6.0</td>\n",
       "    </tr>\n",
       "    <tr>\n",
       "      <th>8</th>\n",
       "      <td>87.053916</td>\n",
       "      <td>2012-01-13</td>\n",
       "      <td>39.92</td>\n",
       "      <td>54.48</td>\n",
       "      <td>9.0</td>\n",
       "    </tr>\n",
       "    <tr>\n",
       "      <th>9</th>\n",
       "      <td>87.570873</td>\n",
       "      <td>2012-01-17</td>\n",
       "      <td>40.00</td>\n",
       "      <td>58.35</td>\n",
       "      <td>9.0</td>\n",
       "    </tr>\n",
       "  </tbody>\n",
       "</table>\n",
       "</div>"
      ],
      "text/plain": [
       "         CVX       Date   FSLR    VWS  Weather\n",
       "0  90.565942 2012-01-03  35.79  66.52      2.0\n",
       "1  90.410034 2012-01-04  34.70  53.76     -2.0\n",
       "2  89.523822 2012-01-05  35.48  52.57      0.0\n",
       "3  88.875574 2012-01-06  35.27  53.67      9.0\n",
       "4  89.843843 2012-01-09  36.84  55.68      4.0\n",
       "5  89.490999 2012-01-10  38.77  58.45      8.0\n",
       "6  88.432468 2012-01-11  41.80  60.17      3.0\n",
       "7  86.134882 2012-01-12  41.59  55.92      6.0\n",
       "8  87.053916 2012-01-13  39.92  54.48      9.0\n",
       "9  87.570873 2012-01-17  40.00  58.35      9.0"
      ]
     },
     "execution_count": 50,
     "metadata": {},
     "output_type": "execute_result"
    }
   ],
   "source": [
    "columns = ['Date', 'Weather', 'CVX', 'FSLR', 'VWS']\n",
    "dfAdjClose = pd.DataFrame({'Date' : df.Date, 'Weather' : df['Max Temp'], 'CVX' : df['Adj. Close_x'], 'FSLR' : df['Adj. Close_y'],\n",
    "                           'VWS' : df['Adj Close']})\n",
    "\n",
    "dfAdjClose.head(10)"
   ]
  },
  {
   "cell_type": "markdown",
   "metadata": {},
   "source": [
    "#### As there was a rise in annual mean of temperature in 2016 \n",
    "    - So considering only 2016"
   ]
  },
  {
   "cell_type": "code",
   "execution_count": 52,
   "metadata": {},
   "outputs": [
    {
     "data": {
      "text/html": [
       "<div>\n",
       "<table border=\"1\" class=\"dataframe\">\n",
       "  <thead>\n",
       "    <tr style=\"text-align: right;\">\n",
       "      <th></th>\n",
       "      <th>CVX</th>\n",
       "      <th>Date</th>\n",
       "      <th>FSLR</th>\n",
       "      <th>VWS</th>\n",
       "      <th>Weather</th>\n",
       "    </tr>\n",
       "  </thead>\n",
       "  <tbody>\n",
       "    <tr>\n",
       "      <th>1005</th>\n",
       "      <td>84.264749</td>\n",
       "      <td>2016-01-04</td>\n",
       "      <td>66.72</td>\n",
       "      <td>460.39</td>\n",
       "      <td>2.0</td>\n",
       "    </tr>\n",
       "    <tr>\n",
       "      <th>1006</th>\n",
       "      <td>84.985528</td>\n",
       "      <td>2016-01-05</td>\n",
       "      <td>72.03</td>\n",
       "      <td>459.52</td>\n",
       "      <td>-3.0</td>\n",
       "    </tr>\n",
       "    <tr>\n",
       "      <th>1007</th>\n",
       "      <td>81.628215</td>\n",
       "      <td>2016-01-06</td>\n",
       "      <td>69.52</td>\n",
       "      <td>455.06</td>\n",
       "      <td>7.0</td>\n",
       "    </tr>\n",
       "    <tr>\n",
       "      <th>1008</th>\n",
       "      <td>78.735615</td>\n",
       "      <td>2016-01-07</td>\n",
       "      <td>66.22</td>\n",
       "      <td>444.99</td>\n",
       "      <td>6.0</td>\n",
       "    </tr>\n",
       "    <tr>\n",
       "      <th>1009</th>\n",
       "      <td>77.891545</td>\n",
       "      <td>2016-01-08</td>\n",
       "      <td>65.62</td>\n",
       "      <td>435.01</td>\n",
       "      <td>6.0</td>\n",
       "    </tr>\n",
       "  </tbody>\n",
       "</table>\n",
       "</div>"
      ],
      "text/plain": [
       "            CVX       Date   FSLR     VWS  Weather\n",
       "1005  84.264749 2016-01-04  66.72  460.39      2.0\n",
       "1006  84.985528 2016-01-05  72.03  459.52     -3.0\n",
       "1007  81.628215 2016-01-06  69.52  455.06      7.0\n",
       "1008  78.735615 2016-01-07  66.22  444.99      6.0\n",
       "1009  77.891545 2016-01-08  65.62  435.01      6.0"
      ]
     },
     "execution_count": 52,
     "metadata": {},
     "output_type": "execute_result"
    }
   ],
   "source": [
    "adjClose2016 = dfAdjClose[dfAdjClose.Date.dt.year == 2016]\n",
    "adjClose2016.head()"
   ]
  },
  {
   "cell_type": "markdown",
   "metadata": {},
   "source": [
    "#### Calculated a Percent Change for each of weather & Stock."
   ]
  },
  {
   "cell_type": "code",
   "execution_count": 76,
   "metadata": {},
   "outputs": [
    {
     "data": {
      "text/html": [
       "<div>\n",
       "<table border=\"1\" class=\"dataframe\">\n",
       "  <thead>\n",
       "    <tr style=\"text-align: right;\">\n",
       "      <th></th>\n",
       "      <th>CVX</th>\n",
       "      <th>Date</th>\n",
       "      <th>FSLR</th>\n",
       "      <th>VWS</th>\n",
       "      <th>Weather</th>\n",
       "      <th>CVX Daily Return</th>\n",
       "      <th>Weather Daily Return</th>\n",
       "      <th>FSLR Daily Return</th>\n",
       "      <th>VWS Daily Return</th>\n",
       "    </tr>\n",
       "  </thead>\n",
       "  <tbody>\n",
       "    <tr>\n",
       "      <th>1005</th>\n",
       "      <td>84.264749</td>\n",
       "      <td>2016-01-04</td>\n",
       "      <td>66.72</td>\n",
       "      <td>460.39</td>\n",
       "      <td>2.0</td>\n",
       "      <td>NaN</td>\n",
       "      <td>NaN</td>\n",
       "      <td>NaN</td>\n",
       "      <td>NaN</td>\n",
       "    </tr>\n",
       "    <tr>\n",
       "      <th>1006</th>\n",
       "      <td>84.985528</td>\n",
       "      <td>2016-01-05</td>\n",
       "      <td>72.03</td>\n",
       "      <td>459.52</td>\n",
       "      <td>-3.0</td>\n",
       "      <td>0.008554</td>\n",
       "      <td>-2.500000</td>\n",
       "      <td>0.079586</td>\n",
       "      <td>-0.001890</td>\n",
       "    </tr>\n",
       "    <tr>\n",
       "      <th>1007</th>\n",
       "      <td>81.628215</td>\n",
       "      <td>2016-01-06</td>\n",
       "      <td>69.52</td>\n",
       "      <td>455.06</td>\n",
       "      <td>7.0</td>\n",
       "      <td>-0.039505</td>\n",
       "      <td>-3.333333</td>\n",
       "      <td>-0.034847</td>\n",
       "      <td>-0.009706</td>\n",
       "    </tr>\n",
       "    <tr>\n",
       "      <th>1008</th>\n",
       "      <td>78.735615</td>\n",
       "      <td>2016-01-07</td>\n",
       "      <td>66.22</td>\n",
       "      <td>444.99</td>\n",
       "      <td>6.0</td>\n",
       "      <td>-0.035436</td>\n",
       "      <td>-0.142857</td>\n",
       "      <td>-0.047468</td>\n",
       "      <td>-0.022129</td>\n",
       "    </tr>\n",
       "    <tr>\n",
       "      <th>1009</th>\n",
       "      <td>77.891545</td>\n",
       "      <td>2016-01-08</td>\n",
       "      <td>65.62</td>\n",
       "      <td>435.01</td>\n",
       "      <td>6.0</td>\n",
       "      <td>-0.010720</td>\n",
       "      <td>0.000000</td>\n",
       "      <td>-0.009061</td>\n",
       "      <td>-0.022427</td>\n",
       "    </tr>\n",
       "  </tbody>\n",
       "</table>\n",
       "</div>"
      ],
      "text/plain": [
       "            CVX       Date   FSLR     VWS  Weather  CVX Daily Return  \\\n",
       "1005  84.264749 2016-01-04  66.72  460.39      2.0               NaN   \n",
       "1006  84.985528 2016-01-05  72.03  459.52     -3.0          0.008554   \n",
       "1007  81.628215 2016-01-06  69.52  455.06      7.0         -0.039505   \n",
       "1008  78.735615 2016-01-07  66.22  444.99      6.0         -0.035436   \n",
       "1009  77.891545 2016-01-08  65.62  435.01      6.0         -0.010720   \n",
       "\n",
       "      Weather Daily Return  FSLR Daily Return  VWS Daily Return  \n",
       "1005                   NaN                NaN               NaN  \n",
       "1006             -2.500000           0.079586         -0.001890  \n",
       "1007             -3.333333          -0.034847         -0.009706  \n",
       "1008             -0.142857          -0.047468         -0.022129  \n",
       "1009              0.000000          -0.009061         -0.022427  "
      ]
     },
     "execution_count": 76,
     "metadata": {},
     "output_type": "execute_result"
    }
   ],
   "source": [
    "# We'll use pct_change to find the percent change for each day\n",
    "adjClose2016['CVX Daily Return'] = adjClose2016['CVX'].pct_change()\n",
    "adjClose2016['Weather Daily Return'] = adjClose2016['Weather'].pct_change()\n",
    "adjClose2016['FSLR Daily Return'] = adjClose2016['FSLR'].pct_change()\n",
    "adjClose2016['VWS Daily Return'] = adjClose2016['VWS'].pct_change()\n",
    "adjClose2016.head()"
   ]
  },
  {
   "cell_type": "markdown",
   "metadata": {},
   "source": [
    "#### Cleaning Data\n",
    "    - Removing all Infinite Values."
   ]
  },
  {
   "cell_type": "code",
   "execution_count": 79,
   "metadata": {
    "collapsed": true
   },
   "outputs": [],
   "source": [
    "# As i can see infinite values I will clean them in order to create histograms\n",
    "adjClose2016 = adjClose2016.replace([np.inf, -np.inf], np.nan)"
   ]
  },
  {
   "cell_type": "code",
   "execution_count": 84,
   "metadata": {},
   "outputs": [
    {
     "data": {
      "text/plain": [
       "<matplotlib.axes._subplots.AxesSubplot at 0x1b1a5b00da0>"
      ]
     },
     "execution_count": 84,
     "metadata": {},
     "output_type": "execute_result"
    },
    {
     "data": {
      "image/png": "[encoded data removed]",
      "text/plain": [
       "<matplotlib.figure.Figure at 0x1b1a4559128>"
      ]
     },
     "metadata": {},
     "output_type": "display_data"
    }
   ],
   "source": [
    "# Now will plot the daily return average using histogram\n",
    "fig = plt.figure(figsize=(20, 8))\n",
    "ax1 = fig.add_subplot(2, 2, 1)\n",
    "ax2 = fig.add_subplot(2, 2, 2)\n",
    "ax3 = fig.add_subplot(2, 2, 3)\n",
    "ax4 = fig.add_subplot(2, 2, 4)\n",
    "# Note the use of dropna() here, otherwise the NaN values can't be read by seaborn\n",
    "sns.distplot(adjClose2016['Weather Daily Return'].dropna(),bins=100,color='black', ax=ax1)\n",
    "sns.distplot(adjClose2016['CVX Daily Return'].dropna(),bins=100,color='blue', ax=ax2)\n",
    "sns.distplot(adjClose2016['FSLR Daily Return'].dropna(),bins=100,color='red', ax=ax3)\n",
    "sns.distplot(adjClose2016['VWS Daily Return'].dropna(),bins=100,color='green', ax=ax4)"
   ]
  },
  {
   "cell_type": "markdown",
   "metadata": {
    "collapsed": true
   },
   "source": [
    "### Result from above graph.\n",
    "\n",
    "- The comparable analyses of the standard deviation of weather, oil, solar and wind reflecting the gradual fall in the stoc kvalue of oil.\n",
    "    \n",
    "- while a consistent rise of stocks of solar and wind companies when compared with shifts in temperatures. \n",
    "\n",
    "- When the sum of histogram values across the negative and positive deviation are compared, a higher value (solar, wind and temperature) shows a tend towards rising value while a lower value (oil) elucidates a trend against the particular stock."
   ]
  },
  {
   "cell_type": "markdown",
   "metadata": {},
   "source": [
    "### Final Conclusion\n",
    "\n",
    "- Colloquially, nations have pushed for greater utilization of non-renewable energy sources to prevent the environment from distruction which will see the trend followed in the near future.\n",
    "\n",
    "-  The rise of solar is consistently progressing, wind power consumption as a means to produce energy has shot through the roof.\n",
    "\n",
    "-  Oil meanwhile has simultaneously regressed."
   ]
  },
  {
   "cell_type": "code",
   "execution_count": null,
   "metadata": {
    "collapsed": true
   },
   "outputs": [],
   "source": []
  }
 ],
 "metadata": {
  "kernelspec": {
   "display_name": "Python 3",
   "language": "python",
   "name": "python3"
  },
  "language_info": {
   "codemirror_mode": {
    "name": "ipython",
    "version": 3
   },
   "file_extension": ".py",
   "mimetype": "text/x-python",
   "name": "python",
   "nbconvert_exporter": "python",
   "pygments_lexer": "ipython3",
   "version": "3.5.0"
  }
 },
 "nbformat": 4,
 "nbformat_minor": 2
}
