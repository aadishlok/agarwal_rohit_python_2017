{
 "cells": [
  {
   "cell_type": "markdown",
   "metadata": {},
   "source": [
    "## DATA Collecting & Storing\n",
    "\n",
    "### Using wunderground API in order to find Historical Weather Data of NEW YORK for past 5 Years (2012-2017).\n",
    "### Using quandl API in order to find Historical Stock Data of Different Sectors for past 5 Years (2012-2017).\n",
    "\n",
    "#### Note - API key is stored in Enviornment Variable and retrieved through OS Library"
   ]
  },
  {
   "cell_type": "code",
   "execution_count": 1,
   "metadata": {
    "collapsed": true
   },
   "outputs": [],
   "source": [
    "import os # For Directory Path\n",
    "import requests # For Making Web Request\n",
    "import json # For Json Data\n",
    "import glob\n",
    "import shutil # to move or copy files\n",
    "import csv\n",
    "from datetime import date\n",
    "from dateutil.rrule import rrule, DAILY"
   ]
  },
  {
   "cell_type": "markdown",
   "metadata": {},
   "source": [
    "#### Step 1 (Data Collection)\n",
    "### Here I am collecting DATA for Weather & Stocks\n",
    "\n",
    "\n",
    "#### WEATHER\n",
    "- Collecting Data from API using (Request) in JSON form.\n",
    "- Storing that JSON file in final/data/weatherHistory for last 5 Years (2012-2017).\n",
    "\n"
   ]
  },
  {
   "cell_type": "code",
   "execution_count": 2,
   "metadata": {
    "collapsed": true
   },
   "outputs": [],
   "source": [
    "#function to check is directory exists\n",
    "def funCheckDir(path):\n",
    "    directory = os.path.dirname(path) # defining directory path\n",
    "    if not os.path.exists(directory): # checking if directory already exists\n",
    "        os.makedirs(directory) # making a directory"
   ]
  },
  {
   "cell_type": "code",
   "execution_count": 3,
   "metadata": {
    "collapsed": true
   },
   "outputs": [],
   "source": [
    "# Getting Relative Path\n",
    "relativePath = os.getcwd()\n",
    "\n",
    "# Directory Checking Function\n",
    "resultPath = relativePath+\"//\"+\"final//WeatherHistory//\"\n",
    "funCheckDir(resultPath)\n",
    "\n",
    "# Api key stored in ENV.\n",
    "apiKey = os.getenv('weatherApi')"
   ]
  },
  {
   "cell_type": "code",
   "execution_count": 4,
   "metadata": {
    "collapsed": true
   },
   "outputs": [],
   "source": [
    "def get_weatherData(weatherDate):\n",
    "    urlstart = 'http://api.wunderground.com/api/'+apiKey+'/history_'\n",
    "    urlend = '/q/NY/new-york.json'\n",
    "\n",
    "    url = urlstart + str(weatherDate) + urlend\n",
    "    data = requests.get(url).json()\n",
    "    # storing this data in midterm/data/articles\n",
    "    with open(resultPath+\"//\"+weatherDate+'.json', 'w') as file:\n",
    "        json.dump(data, file)\n",
    "        \n",
    "        \n",
    "startDate = date(2012, 1, 1)\n",
    "endDate = date(2017, 4, 8)\n",
    "for dt in rrule(DAILY, dtstart=startDate, until=endDate):\n",
    "    get_weatherData(dt.strftime(\"%Y%m%d\"))"
   ]
  },
  {
   "cell_type": "markdown",
   "metadata": {},
   "source": [
    "#### STOCKS\n",
    "- Collecting Data from API using (Request) in JSON form.\n",
    "- Storing that JSON file in final/data/Stocks for last 5 Years (2012-2017)."
   ]
  },
  {
   "cell_type": "code",
   "execution_count": 5,
   "metadata": {
    "collapsed": true
   },
   "outputs": [],
   "source": [
    "# Here we are targetting different sectors like -:\n",
    "# Oil & Gas / Food / Energy / Beverage\n",
    "# Creating Dictionary for these sectors\n",
    "sectors = {\n",
    "    \"oil & Gas\" : 'CVX',\n",
    "    \"Food\" : 'CMG',\n",
    "    \"Beverage\" : 'PEP',\n",
    "    \"Energy\" : 'NRG',\n",
    "    \"Solar\"  : 'FSLR'\n",
    "}\n",
    "\n",
    "\n",
    "# Directory Checking Function\n",
    "stockPath = relativePath+\"//\"+\"final//stock//\"\n",
    "funCheckDir(stockPath)\n",
    "\n",
    "# Api key stored in ENV.\n",
    "apiKeyStock = os.getenv('stockApi')\n",
    "sDate = '2012-01-01'\n",
    "eDate = '2017-04-08'\n",
    "\n",
    "# Defining function in order to get data from api\n",
    "def get_data(key, value):\n",
    "    # Setting api url\n",
    "    stockUrl = 'https://www.quandl.com/api/v3/datasets/WIKI/'+str(value)+'.json?&start_date='+str(sDate)+'&end_date='+str(eDate)+'&api_key='+str(apiKeyStock)\n",
    "    stockData = requests.get(stockUrl).json()\n",
    "    with open(stockPath+\"//\"+key+'-'+value+'.json', 'w') as file:\n",
    "        json.dump(stockData, file)\n",
    "    \n",
    "\n",
    "for key, value in sectors.items():\n",
    "    get_data(key, value)"
   ]
  },
  {
   "cell_type": "markdown",
   "metadata": {},
   "source": [
    "#### Step 2 (Data Storing)\n",
    "- Iterating through all json files store in resultpath/weatherHistory folder.\n",
    "- Extracting useful information like Max & Min Temp.\n",
    "- Storing in resultpath/weatherData as a CSV file name (weather.csv)"
   ]
  },
  {
   "cell_type": "code",
   "execution_count": 5,
   "metadata": {
    "collapsed": true
   },
   "outputs": [],
   "source": [
    "# using glob function to read all json files in Data Folder.\n",
    "fileList = glob.glob(resultPath + '//' +'*json')\n",
    "weather = []\n",
    "\n",
    "# looping through all the json files in order to find useful information.\n",
    "for file in range(len(fileList)):\n",
    "    # json loads is use to read json data.\n",
    "    config = json.loads(open(fileList[file]).read())\n",
    "    for summary in config['history']['dailysummary']:\n",
    "        dataset = (summary['date']['year'] + \"-\" + summary['date']['mon'] + \"-\" + summary['date']['mday'], summary['precipm'], summary['maxtempm'], summary['meantempm'],summary['mintempm'])\n",
    "        weather.append(dataset)\n",
    "\n",
    "    \n",
    "# Directory Checking Function\n",
    "dataPath = relativePath+\"//\"+\"final//WeatherData//\"\n",
    "funCheckDir(dataPath)\n",
    "\n",
    "# Opening CSV file and exporting all data set.                \n",
    "with open(dataPath+\"/\"+'weather.csv', 'w', newline='') as fp:\n",
    "    csvWrite = csv.writer(fp, delimiter=',')\n",
    "    csvWrite.writerow([\"Date\", \"Precipitation\", \"Max Temp\", \"Mean Temp\", \"Min Temp\"])\n",
    "    csvWrite.writerows(weather)\n",
    "    fp.close()"
   ]
  },
  {
   "cell_type": "markdown",
   "metadata": {},
   "source": [
    "#### Stock API DATA Storing"
   ]
  },
  {
   "cell_type": "code",
   "execution_count": 6,
   "metadata": {
    "collapsed": true
   },
   "outputs": [],
   "source": [
    "# using glob function to read all json files in Data Folder.\n",
    "fileListStock = glob.glob(stockPath + '//' +'*.json')\n",
    "\n",
    "# Directory Checking Function\n",
    "sPath = relativePath+\"//\"+\"final//stockData//\"\n",
    "funCheckDir(sPath)\n",
    "\n",
    "for x in range(len(fileListStock)):\n",
    "    stockData = []\n",
    "    config = json.loads(open(fileListStock[x]).read())\n",
    "    fName = config['dataset']['dataset_code']\n",
    "    colName = config['dataset']['column_names']\n",
    "    colName.insert(1, 'company_code')\n",
    "    for data in config['dataset']['data']:\n",
    "        newDataL = data\n",
    "        newDataL.insert(1, fName)\n",
    "        stockData.append(newDataL)\n",
    "    # Opening CSV file and exporting all data set.                \n",
    "    with open(sPath+\"/\"+fName+'.csv', 'w', newline='') as fp:\n",
    "        csvWrite = csv.writer(fp, delimiter=',')\n",
    "        csvWrite.writerow(colName)\n",
    "        csvWrite.writerows(stockData)\n",
    "        fp.close()"
   ]
  },
  {
   "cell_type": "markdown",
   "metadata": {},
   "source": [
    "#### NOTE- The API for Stock Data doesn't provioded me stocks for wind company\n",
    "#### So I used Yahoo Finance Website in order to download it."
   ]
  },
  {
   "cell_type": "code",
   "execution_count": 17,
   "metadata": {
    "collapsed": true
   },
   "outputs": [],
   "source": [
    "windUrl = 'http://chart.finance.yahoo.com/table.csv?s=VWS.CO&a=0&b=1&c=2012&d=3&e=16&f=2017&g=d&ignore=.csv'\n",
    "# Directory Checking Function\n",
    "savePath = relativePath+\"//\"+\"final//extra//\"\n",
    "funCheckDir(savePath)\n",
    "\n",
    "\n",
    "vwsData = requests.get(windUrl)\n",
    "with open(savePath+\"//VWS.csv\", 'wb') as file:\n",
    "    file.write(vwsData.content)"
   ]
  }
 ],
 "metadata": {
  "kernelspec": {
   "display_name": "Python 3",
   "language": "python",
   "name": "python3"
  },
  "language_info": {
   "codemirror_mode": {
    "name": "ipython",
    "version": 3
   },
   "file_extension": ".py",
   "mimetype": "text/x-python",
   "name": "python",
   "nbconvert_exporter": "python",
   "pygments_lexer": "ipython3",
   "version": "3.5.0"
  }
 },
 "nbformat": 4,
 "nbformat_minor": 2
}
