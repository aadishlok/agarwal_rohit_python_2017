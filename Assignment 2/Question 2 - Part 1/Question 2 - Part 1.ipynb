{
 "cells": [
  {
   "cell_type": "markdown",
   "metadata": {},
   "source": [
    "# Part 1, Things to do\n",
    "- Read all the JSON Files in the folder called Data.\n",
    "- There are 3 categories of JSON file names ['attractions', 'Restaurants', 'Hotel']\n",
    "- Create a folder structure to read all JSON files and store them in seperate folder.\n",
    "- Example - Data Processed  / Country / State / City / Zip Code / Attraction / JSON Files\n",
    "- same for restaurant and hotel.\n"
   ]
  },
  {
   "cell_type": "code",
   "execution_count": 44,
   "metadata": {
    "collapsed": false
   },
   "outputs": [],
   "source": [
    "# Importing all libraries that play a role in this question\n",
    "import glob # to read files in directory\n",
    "import json # to read JSON files\n",
    "import os # to create directories\n",
    "import shutil # to move or copy files\n",
    "import re # for cleaning"
   ]
  },
  {
   "cell_type": "code",
   "execution_count": 46,
   "metadata": {
    "collapsed": false
   },
   "outputs": [
    {
     "name": "stdout",
     "output_type": "stream",
     "text": [
      "{'GB', 'NZ', 'AU', 'US', 'FR', 'CA'}\n"
     ]
    }
   ],
   "source": [
    "# using glob function to read all json files in Data Folder.\n",
    "newDir = os.chdir('D:/')\n",
    "relativePath = os.getcwd() #get relative path\n",
    "fileList = glob.glob(relativePath+\"/\"+'Python/Data/*json')\n",
    "country = []\n",
    "\n",
    "# looping through all the json files in order to find unique countries.\n",
    "for file in range(len(fileList)):\n",
    "    # json loads is use to read json data.\n",
    "    config = json.loads(open(fileList[file]).read())\n",
    "    country.append(config[\"location\"][\"country\"])\n",
    "uniqueCountry = set(country)\n",
    "\n",
    "print(uniqueCountry)"
   ]
  },
  {
   "cell_type": "code",
   "execution_count": 47,
   "metadata": {
    "collapsed": false
   },
   "outputs": [],
   "source": [
    "# creating a directory name data processed in D drive.\n",
    "newDir = os.chdir('C:/Users/rohit')\n",
    "relativePath = os.getcwd() #get relative path\n",
    "folder = '/Desktop/Data Processed'\n",
    "\n",
    "# Checking if data processed folder is exist in directory or not.\n",
    "if os.path.isdir(relativePath+folder) == 0:\n",
    "     os.mkdir(relativePath+folder)\n",
    "        \n",
    "\n",
    "# Looping through country\n",
    "# using inner loop to loop through json files.\n",
    "for country in uniqueCountry:\n",
    "    for file in range(len(fileList)):\n",
    "        config = json.loads(open(fileList[file]).read())\n",
    "        \n",
    "        # checking if country is equal to country in json keys.\n",
    "        # If country match then get all data.\n",
    "        if config['location']['country'] == country:\n",
    "            state = config[\"location\"][\"state\"]\n",
    "            city =  config[\"location\"][\"city\"]\n",
    "            zipCode = config[\"location\"][\"zip_code\"]\n",
    "            term =  config['term']\n",
    "            \n",
    "            # Modifying file name in order to remove numeric and special characters.\n",
    "            fileName = fileList[file][15:]\n",
    "            cleanFileName = re.sub('[^a-zA-Z \\n\\.]', ' ', fileName)\n",
    "            newFileName = cleanFileName.replace(city.lower(), '')\n",
    "            \n",
    "            # Checking if directory exists then create sub heirarchy on basis of \n",
    "            # Data Processed / Country / State / City / Zip Code / Attraction / JSON Files\n",
    "            if os.path.isdir(relativePath+folder) == 1:\n",
    "                os.makedirs(relativePath+folder+\"/\"+country+\"/\"+state+\"/\"+city+\"/\"+zipCode+\"/\"+term, exist_ok=True)\n",
    "                dest = relativePath+folder+\"/\"+country+\"/\"+state+\"/\"+city+\"/\"+zipCode+\"/\"+term+\"/\"+newFileName\n",
    "                shutil.copy(fileList[file], dest)"
   ]
  },
  {
   "cell_type": "markdown",
   "metadata": {},
   "source": [
    "# Conclusion\n",
    "- All terms is seperated on basis of Country / State / City / Zip Code / Attraction / JSON Files\n",
    "- Data Processed folder contain heirarchy structure with seperated JSON Files."
   ]
  }
 ],
 "metadata": {
  "anaconda-cloud": {},
  "kernelspec": {
   "display_name": "Python [default]",
   "language": "python",
   "name": "python3"
  },
  "language_info": {
   "codemirror_mode": {
    "name": "ipython",
    "version": 3
   },
   "file_extension": ".py",
   "mimetype": "text/x-python",
   "name": "python",
   "nbconvert_exporter": "python",
   "pygments_lexer": "ipython3",
   "version": "3.5.2"
  }
 },
 "nbformat": 4,
 "nbformat_minor": 1
}
