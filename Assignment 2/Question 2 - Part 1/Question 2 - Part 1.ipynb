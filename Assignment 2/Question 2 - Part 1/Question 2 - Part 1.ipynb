{
 "cells": [
  {
   "cell_type": "markdown",
   "metadata": {},
   "source": [
    "# Real all the JSON file from folder"
   ]
  },
  {
   "cell_type": "code",
   "execution_count": 1,
   "metadata": {
    "collapsed": false
   },
   "outputs": [],
   "source": [
    "import glob\n",
    "import json\n",
    "fileList = glob.glob('D:/Python/Data/*json')"
   ]
  },
  {
   "cell_type": "code",
   "execution_count": 2,
   "metadata": {
    "collapsed": false
   },
   "outputs": [
    {
     "name": "stdout",
     "output_type": "stream",
     "text": [
      "{'CA', 'GB', 'AU', 'FR', 'NZ', 'US'}\n"
     ]
    }
   ],
   "source": [
    "country = []\n",
    "for file in range(len(fileList)):\n",
    "    config = json.loads(open(fileList[file]).read())\n",
    "    country.append(config[\"location\"][\"country\"])\n",
    "uniqueCountry = set(country)\n",
    "\n",
    "print(uniqueCountry)"
   ]
  },
  {
   "cell_type": "code",
   "execution_count": 4,
   "metadata": {
    "collapsed": false
   },
   "outputs": [],
   "source": [
    "import os\n",
    "import shutil\n",
    "import re\n",
    "path = 'D:/Python/Assignment 2/Question 2/Data Processed'\n",
    "if os.path.isdir(path) == 0:\n",
    "     os.mkdir(path)\n",
    "                      \n",
    "for country in uniqueCountry:\n",
    "    for file in range(len(fileList)):\n",
    "        config = json.loads(open(fileList[file]).read())\n",
    "        if config['location']['country'] == country:\n",
    "            state = config[\"location\"][\"state\"]\n",
    "            city =  config[\"location\"][\"city\"]\n",
    "            zipCode = config[\"location\"][\"zip_code\"]\n",
    "            term =  config['term']\n",
    "            fileName = fileList[file][15:]\n",
    "            cleanFileName = re.sub('[^a-zA-Z \\n\\.]', ' ', fileName)\n",
    "            newFileName = cleanFileName.replace(city.lower(), '')\n",
    "            if os.path.isdir(path) == 1:\n",
    "                os.makedirs(path+\"/\"+country+\"/\"+state+\"/\"+city+\"/\"+zipCode+\"/\"+term, exist_ok=True)\n",
    "                dest = path+\"/\"+country+\"/\"+state+\"/\"+city+\"/\"+zipCode+\"/\"+term+\"/\"+newFileName\n",
    "                shutil.copy(fileList[file], dest)"
   ]
  }
 ],
 "metadata": {
  "anaconda-cloud": {},
  "kernelspec": {
   "display_name": "Python [default]",
   "language": "python",
   "name": "python3"
  },
  "language_info": {
   "codemirror_mode": {
    "name": "ipython",
    "version": 3
   },
   "file_extension": ".py",
   "mimetype": "text/x-python",
   "name": "python",
   "nbconvert_exporter": "python",
   "pygments_lexer": "ipython3",
   "version": "3.5.2"
  }
 },
 "nbformat": 4,
 "nbformat_minor": 1
}
