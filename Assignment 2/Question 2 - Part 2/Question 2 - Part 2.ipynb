{
 "cells": [
  {
   "cell_type": "markdown",
   "metadata": {},
   "source": [
    "# Part 2, Things to do\n",
    "- Read all the JSON Files in the folder called Data.\n",
    "- Read only term name \"Restaurants\"\n",
    "- Each Json files contain key open.\n",
    "- Get all the details from open key and store in CSV.\n",
    "- Example - CSV file contain data in format [(filenName, city, country, day, startTime, endTime)]\n",
    "- Create only one CSV file and store all restaurants information w.r.t Country."
   ]
  },
  {
   "cell_type": "code",
   "execution_count": 1,
   "metadata": {
    "collapsed": false
   },
   "outputs": [],
   "source": [
    "# Importing all libraries that play a role in this question\n",
    "import glob # to read files in directory\n",
    "import json # to read JSON files\n",
    "import os # to create directories\n",
    "import shutil # to move or copy files\n",
    "import re # for cleaning\n",
    "import csv # to import csv file.\n"
   ]
  },
  {
   "cell_type": "code",
   "execution_count": 2,
   "metadata": {
    "collapsed": false
   },
   "outputs": [
    {
     "data": {
      "text/plain": [
       "{'AU', 'GB', 'NZ', 'US'}"
      ]
     },
     "execution_count": 2,
     "metadata": {},
     "output_type": "execute_result"
    }
   ],
   "source": [
    "relativePath = os.getcwd() #get relative path\n",
    "# using glob function to read all json files in Data Folder.\n",
    "fileList = glob.glob('D:/Python/Data/*json')\n",
    "restFile = []\n",
    "country = []\n",
    "\n",
    "# looping through all the json files in order to find unique countries.\n",
    "for file in range(len(fileList)):\n",
    "    # json loads is use to read json data.\n",
    "    config = json.loads(open(fileList[file]).read())\n",
    "    \n",
    "    # checking if country is equal to country in json keys && json file contains key name \"Hours\".\n",
    "    # This is because I saw a file name \"140 perth perth comes in to term restaurants but don’t have any hours\"\n",
    "    # If condition match then get all data and store in restFile.\n",
    "    \n",
    "    if config['term'] == 'restaurants'and 'hours' in config:\n",
    "        restFile.append(fileList[file])\n",
    "        country.append(config[\"location\"][\"country\"])\n",
    "    \n",
    "uniqueCountry = set(country)\n",
    "uniqueCountry"
   ]
  },
  {
   "cell_type": "code",
   "execution_count": 3,
   "metadata": {
    "collapsed": false
   },
   "outputs": [],
   "source": [
    "folder = '/Desktop/Data Part 2'\n",
    "\n",
    "# Checking if data processed folder is exist in directory or not.\n",
    "if os.path.isdir(relativePath+folder) == 0:\n",
    "     os.mkdir(relativePath+folder)\n",
    "        \n",
    "# Creating one Restaurants CSV file to store all start and end time of all restaurants in each country.\n",
    "newFileName = relativePath+folder+\"/\"+'Restaurants.csv'  \n",
    "country = []\n",
    "csvF = []\n",
    "\n",
    "# Looping through country\n",
    "# using inner loop to loop through json files.\n",
    "for country in sorted(uniqueCountry):\n",
    "    for res in range(len(restFile)):\n",
    "        config = json.loads(open(restFile[res]).read())\n",
    "        \n",
    "        # checking if country is equal to country in json keys.\n",
    "        # If country match then get all data.\n",
    "        if config['location']['country'] == country:\n",
    "            state = config[\"location\"][\"state\"]\n",
    "            city =  config[\"location\"][\"city\"]\n",
    "            \n",
    "            # Modifying file name in order to remove numeric and special characters.\n",
    "            fileName = restFile[res][15:-5]\n",
    "            cleanFileName = re.sub('[^a-zA-Z \\n\\.]', ' ', fileName)\n",
    "            openKey = config['hours'][0]['open']\n",
    "            \n",
    "            # Now creating this inner loop of key open in order to get all days.\n",
    "            for x in range(len(openKey)):\n",
    "                day = openKey[x]['day']\n",
    "                startTime = openKey[x]['start']\n",
    "                endTime = openKey[x]['end']\n",
    "                \n",
    "                # Getting All data and storing in Data Set\n",
    "                dataSet = (cleanFileName.strip(), city, country, day, startTime, endTime)\n",
    "                csvF.append(dataSet)\n",
    "                \n",
    "# Opening CSV file and exporting all data set.                \n",
    "with open(newFileName, 'w', newline='') as fp:\n",
    "    a = csv.writer(fp, delimiter=',')\n",
    "    a.writerow([\"Name\", \"City\", \"Country Code\", \"Days\", \"Start\", \"End\"])\n",
    "    a.writerows(csvF)\n",
    "    fp.close()"
   ]
  },
  {
   "cell_type": "markdown",
   "metadata": {},
   "source": [
    "# Bonus Point\n",
    "- Split Start time into two different columns Hour and Minutes.\n",
    "- Split End Time into two different coulums Hour and Minutes."
   ]
  },
  {
   "cell_type": "code",
   "execution_count": 4,
   "metadata": {
    "collapsed": false
   },
   "outputs": [],
   "source": [
    "# Note - : Is the same code written above but changes is done below to split time in to hour and min.\n",
    "\n",
    "country = []\n",
    "bonusFile = relativePath+folder+\"/\"+'Bonus.csv' \n",
    "csvF = []\n",
    "for country in sorted(uniqueCountry):\n",
    "    for res in range(len(restFile)):\n",
    "        config = json.loads(open(restFile[res]).read())\n",
    "        if config['location']['country'] == country:\n",
    "            state = config[\"location\"][\"state\"]\n",
    "            city =  config[\"location\"][\"city\"]\n",
    "            fileName = restFile[res][15:-5]\n",
    "            cleanFileName = re.sub('[^a-zA-Z \\n\\.]', ' ', fileName)\n",
    "            openKey = config['hours'][0]['open']\n",
    "            for x in range(len(openKey)):\n",
    "                day = openKey[x]['day']\n",
    "                startTime = openKey[x]['start']\n",
    "                \n",
    "                \n",
    "                # Bonus - Splitting Start Time into hour and minute.\n",
    "                sHour = startTime[0:-2]\n",
    "                sMin = startTime[-2:]\n",
    "                \n",
    "                # Bonus - Splitting End Time into hour and minute.\n",
    "                endTime = openKey[x]['end']\n",
    "                eHour = endTime[0:-2]\n",
    "                eMin = endTime[-2:]\n",
    "                dataSet = (cleanFileName.strip(), city, country, day, sHour, sMin, eHour, eMin)\n",
    "                csvF.append(dataSet)\n",
    "with open(bonusFile, 'w', newline='') as fp:\n",
    "    a = csv.writer(fp, delimiter=',')\n",
    "    a.writerow([\"Name\", \"City\", \"Country Code\", \"Days\", \"Start Time Hour\", \"Start Time Minute\", \"End Time Hour\", \"End Time Minute\"])\n",
    "    a.writerows(csvF)\n",
    "    fp.close()"
   ]
  },
  {
   "cell_type": "markdown",
   "metadata": {},
   "source": [
    "# NOTE- : This code is for individual CSV file for term Restaurants \n",
    "- Folder name Data Process contain Countries with all individual restaurant CSV files."
   ]
  },
  {
   "cell_type": "code",
   "execution_count": 5,
   "metadata": {
    "collapsed": true
   },
   "outputs": [],
   "source": [
    "country = []\n",
    "\n",
    "path = relativePath+folder\n",
    "if os.path.isdir(path) == 0:\n",
    "     os.mkdir(path)\n",
    "for country in uniqueCountry:\n",
    "    for res in range(len(restFile)):\n",
    "        csvF = []\n",
    "        config = json.loads(open(restFile[res]).read())\n",
    "        if config['location']['country'] == country:\n",
    "            state = config[\"location\"][\"state\"]\n",
    "            city =  config[\"location\"][\"city\"]\n",
    "            fileName = restFile[res][15:-5]\n",
    "            cleanFileName = re.sub('[^a-zA-Z \\n\\.]', ' ', fileName)\n",
    "            openKey = config['hours'][0]['open']\n",
    "            for x in range(len(openKey)):\n",
    "                day = openKey[x]['day']\n",
    "                startTime = openKey[x]['start']\n",
    "                endTime = openKey[x]['end']\n",
    "                dataSet = (cleanFileName.strip(), city, country, day, startTime, endTime)\n",
    "                csvF.append(dataSet)\n",
    "                if os.path.isdir(path) == 1:\n",
    "                    os.makedirs(path+\"/\"+country, exist_ok=True)\n",
    "                    newFileName = path+\"/\"+country+\"/\"+cleanFileName.strip()+\".csv\"\n",
    "                    with open(newFileName, 'w', newline='') as fp:\n",
    "                        a = csv.writer(fp, delimiter=',')\n",
    "                        a.writerow([\"Name\", \"City\", \"Country Code\", \"Days\", \"Start\", \"End\"])\n",
    "                        a.writerows(csvF)"
   ]
  },
  {
   "cell_type": "code",
   "execution_count": null,
   "metadata": {
    "collapsed": true
   },
   "outputs": [],
   "source": [
    "# Conclusion\n",
    "- Check file name Restaurants and Bonus. CSV in order to see all restaurants details for all days.\n",
    "- Check Data Processed folder to see country / restaurant name.csv"
   ]
  }
 ],
 "metadata": {
  "anaconda-cloud": {},
  "kernelspec": {
   "display_name": "Python [default]",
   "language": "python",
   "name": "python3"
  },
  "language_info": {
   "codemirror_mode": {
    "name": "ipython",
    "version": 3
   },
   "file_extension": ".py",
   "mimetype": "text/x-python",
   "name": "python",
   "nbconvert_exporter": "python",
   "pygments_lexer": "ipython3",
   "version": "3.5.2"
  }
 },
 "nbformat": 4,
 "nbformat_minor": 1
}
