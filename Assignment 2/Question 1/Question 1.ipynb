{
 "cells": [
  {
   "cell_type": "markdown",
   "metadata": {},
   "source": [
    "# Question 1\n",
    "- Learn & Understand Zip's Law."
   ]
  },
  {
   "cell_type": "raw",
   "metadata": {},
   "source": [
    "# Zipf's law \n",
    "It Simply states that given some corpus (large and structured set of texts) of natural language utterances, \n",
    "the occurrence of the most frequent word will be approximately \n",
    "A- twice as often as the second most frequent word, \n",
    "B- three times as the third most frequent word, \n",
    "C- four times as the fourth most frequent word, and so forth. \n"
   ]
  },
  {
   "cell_type": "markdown",
   "metadata": {},
   "source": [
    "# Requirments \n",
    "- Use Glob to read file and loop.\n",
    "- Create one Lambda and one function.\n",
    "- Save Data in CSV file contains (Word, Frequency, Rank) sorted by Rank\n",
    "- Read CSV generated and create log-log figure.\n",
    "- Use matplotlib to generate figure.\n",
    "- Save figure in png file.\n",
    "- Write Conclusion at end."
   ]
  },
  {
   "cell_type": "markdown",
   "metadata": {},
   "source": [
    "###### Using Gutenber Corpora from nltk_data store in C Drive\n",
    "\n",
    "###### Proving if Zip's Law work in NLTK package or not."
   ]
  },
  {
   "cell_type": "code",
   "execution_count": 3,
   "metadata": {
    "collapsed": false
   },
   "outputs": [],
   "source": [
    "# Importing All the libraries that I am going to use.\n",
    "\n",
    "import glob # use to read file in directory.\n",
    "import re # use to clean data.\n",
    "import csv # use to create CSV file.\n",
    "import matplotlib.pyplot as plt # use to create plot graph.\n",
    "import os"
   ]
  },
  {
   "cell_type": "code",
   "execution_count": 7,
   "metadata": {
    "collapsed": false
   },
   "outputs": [],
   "source": [
    "# using glob to read all nltk gutenberg in C Drive.\n",
    "files = glob.glob(\"C://Users//rohit//AppData//Roaming//nltk_data/corpora/gutenberg/*.txt\")\n",
    "relativePath = os.getcwd() #get relative path\n",
    "# Looping in order to merge all text file present in gutenberg corpora and storing in D drive.\n",
    "# After merging the file size of guternberg.txt is more than 10 MB.\n",
    "\n",
    "with open( relativePath+\"/\"+'gutenberg.txt', 'w' ) as result:\n",
    "    for file in files:\n",
    "        for line in open( file, 'r' ):\n",
    "            result.write(line)"
   ]
  },
  {
   "cell_type": "code",
   "execution_count": 8,
   "metadata": {
    "collapsed": false
   },
   "outputs": [],
   "source": [
    "# opening merge file name gutenberg.txt using open function.\n",
    "file = open(relativePath+\"/\"+'gutenberg.txt', 'r')\n",
    "l = []\n",
    "\n",
    "# Reading line by line from file.\n",
    "contents = file.readlines()\n",
    "\n",
    "# looping in order to insert all words in list name 'l'.\n",
    "for line in range(len(contents)):\n",
    "    l.extend(re.findall(r\"[\\w']+\", contents[line]))\n",
    "    \n",
    "\n",
    "# Defining Parameterized function name Clean and passing one element.    \n",
    "def clean(elem):\n",
    "    return  re.sub('[^a-zA-Z0-9 \\n\\.]', '', elem)\n",
    "\n",
    "\n",
    "# looping list name l and cleaning every word and storing in new list name newList.\n",
    "newList = []\n",
    "for c in range(len(l)):\n",
    "    removed = clean(l[c])\n",
    "    newList.append(removed)"
   ]
  },
  {
   "cell_type": "code",
   "execution_count": 9,
   "metadata": {
    "collapsed": false
   },
   "outputs": [
    {
     "name": "stdout",
     "output_type": "stream",
     "text": [
      "[('the', 125749), ('and', 78846), ('of', 70080), ('to', 46443), ('a', 32489), ('in', 31941), ('I', 29128), ('that', 27057), ('he', 21967), ('his', 20594)]\n"
     ]
    }
   ],
   "source": [
    "# creating empty dictionary.\n",
    "frequency={}\n",
    "\n",
    "#Looping through new List and getting the count of every word and storing in Dictionary.\n",
    "for word in newList:\n",
    "    count = frequency.get(word,0)\n",
    "    frequency[word] = count + 1\n",
    "    \n",
    "# Defining Lambda function to sort in descending order.\n",
    "sortedDict = sorted(frequency.items(), key=lambda x: (-x[1], x[0])) # sorted is used to sort dictionary in descending order.\n",
    "print(sortedDict[:10])"
   ]
  },
  {
   "cell_type": "code",
   "execution_count": 10,
   "metadata": {
    "collapsed": false
   },
   "outputs": [
    {
     "name": "stdout",
     "output_type": "stream",
     "text": [
      "[('the', 125749, 1), ('and', 78846, 2), ('of', 70080, 3), ('to', 46443, 4), ('a', 32489, 5), ('in', 31941, 6), ('I', 29128, 7), ('that', 27057, 8), ('he', 21967, 9), ('his', 20594, 10)]\n"
     ]
    }
   ],
   "source": [
    "# Now the task is to assign Rank to each word.\n",
    "i = 1\n",
    "rankList = []\n",
    "\n",
    "# Looping in order to assign rank to each word.\n",
    "for rank in range(len(sortedDict)):\n",
    "    obj1 = sortedDict[rank]\n",
    "    obj1 = obj1 + (i,)\n",
    "    rankList.append(obj1)\n",
    "    i = i+1\n",
    "\n",
    "print(rankList[:10])"
   ]
  },
  {
   "cell_type": "code",
   "execution_count": 11,
   "metadata": {
    "collapsed": false
   },
   "outputs": [],
   "source": [
    "# creating CSV file that contains (Word, Frequency, Rank) sorted by Rank.\n",
    "fileName = relativePath+\"/\"+'gutenbergCorpus.csv'\n",
    "\n",
    "# Writing the data in to CSV file and storing in D drive.\n",
    "with open(fileName, 'w', newline='') as fp:\n",
    "    a = csv.writer(fp, delimiter=',')\n",
    "    a.writerow([\"Word\", \"Frequency\", \"Rank\"])\n",
    "    a.writerows(rankList)"
   ]
  },
  {
   "cell_type": "code",
   "execution_count": 12,
   "metadata": {
    "collapsed": false
   },
   "outputs": [
    {
     "data": {
      "image/png": "[encoded data removed]",
      "text/plain": [
       "<matplotlib.figure.Figure at 0x204e6008978>"
      ]
     },
     "metadata": {},
     "output_type": "display_data"
    }
   ],
   "source": [
    "# Now plotting loglog figure.\n",
    "exportFig = relativePath+\"/\"+'zipfGraph.png'\n",
    "x = []\n",
    "y = []\n",
    "\n",
    "\n",
    "# Reading CSV file in order to generate loglog figure.\n",
    "with open(fileName,'r') as csvfile:\n",
    "    next(csvfile)\n",
    "    plots = csv.reader(csvfile, delimiter=',')\n",
    "    for row in plots:\n",
    "        x.append(int(row[2]))\n",
    "        y.append(int(row[1]))\n",
    "\n",
    "plt.loglog(x,y, label='Freq vs Rank')\n",
    "plt.xlabel('log rank')\n",
    "plt.ylabel('log frequency')\n",
    "plt.title('Zipf curve for Gutenberg Corpus extracted from 2183650 words')\n",
    "plt.legend\n",
    "\n",
    "# storing figure in png file and stored in D drive.\n",
    "plt.savefig(exportFig, bbox_inches='tight')\n",
    "plt.show()"
   ]
  },
  {
   "cell_type": "markdown",
   "metadata": {
    "collapsed": true
   },
   "source": [
    "# Conclusion.\n",
    "- The simplest way to show that Zipf's law holds is to plot the data. \n",
    "- Remember that looking at most frequent and least frequent words only is misleading. \n",
    "- For those types of words Zipf's law has the highest errors\n",
    "- Zipf law make most errors for Highest Frequency nad lowest frequency words.\n",
    "- It states it's better to plot Rank on X aixs and Frequency on Y axis.\n",
    "- If Zipf law hold we will see a line with slope -1.\n",
    "- It means this means if A is the point where the line crosses the x-axis \n",
    "  and B is the point where the line crosses the y-axis \n",
    "  and O is the origin of the coordinate system then OA = OB\n",
    "\n",
    "- After understanding Zipf law and plotting data on log graph,\n",
    "  \"We can say NLTK Data for gutenberg corpora hold ZIPF's Law.\""
   ]
  }
 ],
 "metadata": {
  "anaconda-cloud": {},
  "kernelspec": {
   "display_name": "Python [default]",
   "language": "python",
   "name": "python3"
  },
  "language_info": {
   "codemirror_mode": {
    "name": "ipython",
    "version": 3
   },
   "file_extension": ".py",
   "mimetype": "text/x-python",
   "name": "python",
   "nbconvert_exporter": "python",
   "pygments_lexer": "ipython3",
   "version": "3.5.2"
  }
 },
 "nbformat": 4,
 "nbformat_minor": 1
}
