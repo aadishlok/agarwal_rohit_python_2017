{
 "cells": [
  {
   "cell_type": "markdown",
   "metadata": {},
   "source": [
    "# Question 1\n",
    "- Learn & Understand Zip's Law."
   ]
  },
  {
   "cell_type": "raw",
   "metadata": {},
   "source": [
    "# Zipf's law \n",
    "It Simply states that given some corpus (large and structured set of texts) of natural language utterances, \n",
    "the occurrence of the most frequent word will be approximately \n",
    "A- twice as often as the second most frequent word, \n",
    "B- three times as the third most frequent word, \n",
    "C- four times as the fourth most frequent word, and so forth. \n"
   ]
  },
  {
   "cell_type": "markdown",
   "metadata": {},
   "source": [
    "###### Pick file in NLTK Package \n",
    "###### Proof if Zip's Law work in NLTK package or not."
   ]
  },
  {
   "cell_type": "code",
   "execution_count": 1,
   "metadata": {
    "collapsed": false
   },
   "outputs": [],
   "source": [
    "import nltk\n",
    "fileid = nltk.corpus.brown.categories()"
   ]
  },
  {
   "cell_type": "code",
   "execution_count": 2,
   "metadata": {
    "collapsed": false
   },
   "outputs": [
    {
     "name": "stdout",
     "output_type": "stream",
     "text": [
      "18258\n",
      "[('the', 1027), ('and', 529), ('a', 523), ('of', 518), ('to', 465), ('in', 360), ('was', 276), ('that', 252), ('i', 239), ('it', 210)]\n"
     ]
    }
   ],
   "source": [
    "# Cleaning file.\n",
    "import re\n",
    "def clean(elem):\n",
    "    punct = re.compile('\\W+|(\\d+)')\n",
    "    return  re.match(punct, elem)\n",
    "\n",
    "webWords = nltk.corpus.brown.words(categories='humor')\n",
    "cleanList = [word.lower() for word in webWords if not clean(word)]\n",
    "wordLen = len(cleanList)\n",
    "print(wordLen)\n",
    "frequency={}\n",
    "for word in cleanList:\n",
    "    count = frequency.get(word,0)\n",
    "    frequency[word] = count + 1\n",
    "sortedDict = sorted(frequency.items(), key=lambda x: (-x[1], x[0])) # sorted is used to sort dictionary in descending order.\n",
    "print(sortedDict[:10])"
   ]
  },
  {
   "cell_type": "code",
   "execution_count": 10,
   "metadata": {
    "collapsed": false
   },
   "outputs": [],
   "source": [
    "A = 0.1\n",
    "i = 1\n",
    "rankList = []\n",
    "for rank in range(len(sortedDict)):\n",
    "    wordRank = (A * wordLen) / (sortedDict[rank][1] * i)\n",
    "    wR = float(\"{0:.2f}\".format(wordRank))\n",
    "    obj1 = sortedDict[rank]\n",
    "    obj2 = list(obj1)\n",
    "    obj2.append(wR)\n",
    "    obj3 = tuple(obj2)\n",
    "    rankList.append(obj3)\n",
    "    i = i+1\n",
    "    \n"
   ]
  },
  {
   "cell_type": "code",
   "execution_count": 11,
   "metadata": {
    "collapsed": false
   },
   "outputs": [],
   "source": [
    "import csv\n",
    "fileName = 'C:/Users/rohit/Desktop/'+ fileid[0]+ \".csv\"\n",
    "with open(fileName, 'w', newline='') as fp:\n",
    "    a = csv.writer(fp, delimiter=',')\n",
    "    a.writerow([\"Word\", \"Frequency\", \"Rank\"])\n",
    "    a.writerows(rankList)"
   ]
  },
  {
   "cell_type": "code",
   "execution_count": 17,
   "metadata": {
    "collapsed": false
   },
   "outputs": [
    {
     "data": {
      "image/png": "[encoded data removed]",
      "text/plain": [
       "<matplotlib.figure.Figure at 0x24ad58367b8>"
      ]
     },
     "metadata": {},
     "output_type": "display_data"
    }
   ],
   "source": [
    "import matplotlib.pyplot as plt\n",
    "\n",
    "x = []\n",
    "y = []\n",
    "\n",
    "with open(fileName,'r') as csvfile:\n",
    "    plots = csv.reader(csvfile, delimiter=',')\n",
    "    next(csvfile)\n",
    "    for row in plots:\n",
    "        x.append(float(row[2]))\n",
    "        y.append(int(row[1]))\n",
    "        \n",
    "plt.plot(x,y, label='Loaded from file!')\n",
    "plt.xlabel('x')\n",
    "plt.ylabel('y')\n",
    "plt.title('Interesting Graph\\nCheck it out')\n",
    "plt.legend()\n",
    "plt.show()"
   ]
  }
 ],
 "metadata": {
  "anaconda-cloud": {},
  "kernelspec": {
   "display_name": "Python [default]",
   "language": "python",
   "name": "python3"
  },
  "language_info": {
   "codemirror_mode": {
    "name": "ipython",
    "version": 3
   },
   "file_extension": ".py",
   "mimetype": "text/x-python",
   "name": "python",
   "nbconvert_exporter": "python",
   "pygments_lexer": "ipython3",
   "version": "3.5.2"
  }
 },
 "nbformat": 4,
 "nbformat_minor": 1
}
