{
 "cells": [
  {
   "cell_type": "markdown",
   "metadata": {},
   "source": [
    "# Things to do-:\n",
    "- Used NYT Archive API to do Analysis."
   ]
  },
  {
   "cell_type": "markdown",
   "metadata": {},
   "source": [
    "#### Importing all libraries that are used."
   ]
  },
  {
   "cell_type": "code",
   "execution_count": 1,
   "metadata": {
    "collapsed": true
   },
   "outputs": [],
   "source": [
    "import requests\n",
    "import json\n",
    "import os\n",
    "import csv\n",
    "import re\n",
    "import pylab as plt\n",
    "from bs4 import BeautifulSoup\n",
    "from collections import Counter\n",
    "from nltk.tokenize import word_tokenize"
   ]
  },
  {
   "cell_type": "markdown",
   "metadata": {},
   "source": [
    "#### Step 1\n",
    "- Data Collection from API using (Request) in JSON form.\n",
    "- Storing that JSON file in midterm/data/Archive folder."
   ]
  },
  {
   "cell_type": "code",
   "execution_count": 3,
   "metadata": {
    "collapsed": false
   },
   "outputs": [],
   "source": [
    "# Getting Relative Path\n",
    "relativePath = os.getcwd()\n",
    "\n",
    "# Checking if data/artcles processed folder is exist in directory or not.\n",
    "if os.path.isdir(relativePath+\"/\"+'midterm/') == 1:\n",
    "    if os.path.isdir(relativePath+\"/\"+'midterm/data/Archive/jsonData') == 0:\n",
    "        os.makedirs(relativePath+\"/\"+'midterm/data/Archive/jsonData')\n",
    "\n",
    "# Api key stored in ENV.\n",
    "apiKey = os.getenv('nyt_archive_key')\n",
    "year = 2017\n",
    "month = 1\n",
    "\n",
    "# Hitting API to get data in json form.\n",
    "url = \"https://api.nytimes.com/svc/archive/v1/\"+str(year)+\"/\"+str(month)+\".json?api-key=\"+apiKey\n",
    "response = requests.get(url)\n",
    "content  = response.json()\n",
    "\n",
    "# storing this data in midterm/data/articles\n",
    "with open(relativePath+\"/\"+'midterm/data/Archive/jsonData'+\"/\"+str(month)+\"-\"+str(year)+'.json', 'w') as file:\n",
    "    json.dump(content, file)"
   ]
  },
  {
   "cell_type": "markdown",
   "metadata": {},
   "source": [
    "#### Step 2\n",
    "- Reading that JSON file in order to get section name and store in list."
   ]
  },
  {
   "cell_type": "code",
   "execution_count": 4,
   "metadata": {
    "collapsed": false,
    "scrolled": true
   },
   "outputs": [
    {
     "name": "stdout",
     "output_type": "stream",
     "text": [
      "5206\n"
     ]
    }
   ],
   "source": [
    "# path for reading json file\n",
    "path = relativePath+\"/\"+'midterm/data/Archive/jsonData'\n",
    "\n",
    "# function to append all articles section in list\n",
    "def getArticles(file, sectionName):\n",
    "    config = json.loads(open(file).read())\n",
    "    for x in range(len(config['response']['docs'])):\n",
    "        section = config['response']['docs'][x]['subsection_name']\n",
    "        sectionName.append(section)\n",
    "\n",
    "    \n",
    "    \n",
    "\n",
    "sectionName = []\n",
    "for directory, subDirectory, filename in os.walk(path):\n",
    "    for file in filename:\n",
    "        getArticles(os.path.join(directory, file), sectionName)\n",
    "\n",
    "print(len(sectionName))"
   ]
  },
  {
   "cell_type": "markdown",
   "metadata": {},
   "source": [
    "#### Step 3\n",
    "- Looping through Section List to find count of all section name."
   ]
  },
  {
   "cell_type": "code",
   "execution_count": 5,
   "metadata": {
    "collapsed": false
   },
   "outputs": [
    {
     "name": "stdout",
     "output_type": "stream",
     "text": [
      "[(None, 2775), ('Politics', 451), ('Europe', 148), ('Asia Pacific', 143), ('DealBook', 136), ('Music', 124), ('Television', 121), ('Book Review', 105), ('Art & Design', 87), ('Middle East', 78)]\n"
     ]
    }
   ],
   "source": [
    "# creating empty dictionary.\n",
    "frequency={}\n",
    "\n",
    "#Looping through new List and getting the count of every word and storing in Dictionary.\n",
    "for word in sectionName:\n",
    "    count = frequency.get(word,0)\n",
    "    frequency[word] = count + 1\n",
    "    \n",
    "# Defining Lambda function to sort in descending order.\n",
    "sortedDict = sorted(frequency.items(), key=lambda x: (-x[1], x[0])) # sorted is used to sort dictionary in descending order.\n",
    "print(sortedDict[:10])"
   ]
  },
  {
   "cell_type": "code",
   "execution_count": 6,
   "metadata": {
    "collapsed": false
   },
   "outputs": [],
   "source": [
    "# Assigning rank to every section from top to bottom.\n",
    "\n",
    "i = 0\n",
    "rankList = []\n",
    "\n",
    "# Looping in order to assign rank to each word.\n",
    "for rank in range(len(sortedDict)):\n",
    "    obj1 = sortedDict[rank]\n",
    "    obj1 = obj1 + (i,)\n",
    "    rankList.append(obj1)\n",
    "    i = i+1"
   ]
  },
  {
   "cell_type": "markdown",
   "metadata": {},
   "source": [
    "#### Step 4\n",
    "- Writting that list in CSV form in midterm/que[1-2]/ana_[1-3]/Articles/result"
   ]
  },
  {
   "cell_type": "code",
   "execution_count": 7,
   "metadata": {
    "collapsed": true
   },
   "outputs": [],
   "source": [
    "# Checking if data processed folder is exist in directory or not.\n",
    "if os.path.isdir(relativePath+\"/\"+'midterm/que[1-2]/ana_[1-3]/') == 1:\n",
    "    if os.path.isdir(relativePath+\"/\"+'midterm/que[1-2]/ana_[1-3]/Articles/result') == 0:\n",
    "        os.makedirs(relativePath+\"/\"+'midterm/que[1-2]/ana_[1-3]/Articles/result')\n",
    "\n",
    "# creating CSV file that contains (Word, Frequency, Rank) sorted by Rank.\n",
    "fileName = relativePath+\"/\"+'midterm/que[1-2]/ana_[1-3]/Articles/result/topicCount.csv'\n",
    "\n",
    "# Writing the data in to CSV file and storing in D drive.\n",
    "with open(fileName, 'w', newline='') as fp:\n",
    "    a = csv.writer(fp, delimiter=',')\n",
    "    a.writerow([\"Category\", \"Count\"])\n",
    "    a.writerows(rankList[:10])"
   ]
  },
  {
   "cell_type": "code",
   "execution_count": 8,
   "metadata": {
    "collapsed": false
   },
   "outputs": [],
   "source": [
    "# Reading data from csv in order to ploton graph.\n",
    "\n",
    "label = []\n",
    "y = []\n",
    "z = []\n",
    "\n",
    "# Reading CSV file in order to generate loglog figure.\n",
    "with open(fileName,'r') as csvfile:\n",
    "    next(csvfile)\n",
    "    next(csvfile)\n",
    "    plots = csv.reader(csvfile, delimiter=',')\n",
    "    for row in plots:\n",
    "        label.append(row[0])\n",
    "        y.append(int(row[1]))\n",
    "        z.append(int(row[2]))\n"
   ]
  },
  {
   "cell_type": "code",
   "execution_count": 9,
   "metadata": {
    "collapsed": false,
    "scrolled": true
   },
   "outputs": [
    {
     "data": {
      "image/png": "[encoded data removed]",
      "text/plain": [
       "<matplotlib.figure.Figure at 0x1d35a191048>"
      ]
     },
     "metadata": {},
     "output_type": "display_data"
    }
   ],
   "source": [
    "# storing figure in png file and stored in D drive.\n",
    "pieFig = relativePath+\"/\"+'midterm/que[1-2]/ana_[1-3]/Articles/result/percentTopic.png'\n",
    "\n",
    "plt.figure(figsize=(15,4))\n",
    "plt.bar(z, y, align='center')\n",
    "plt.xticks(z, label, rotation=90)\n",
    "plt.xlabel(\"Top Categories of Articles\")\n",
    "plt.ylabel(\"Nukber of Articles Posted\")\n",
    "plt.savefig(pieFig, bbox_inches='tight')\n",
    "plt.show()"
   ]
  },
  {
   "cell_type": "markdown",
   "metadata": {},
   "source": [
    "### As we can see from above in January'17 the top category was \"Politics\".\n",
    "- The Most Poweful Presidential Candidate's was\n",
    "    - Donald Trump\n",
    "    \n",
    "    \n",
    "- Will do some Analysis on Donald Trump.\n",
    "\n",
    "\n",
    "- Data Collection for Donald Trump from JSON file."
   ]
  },
  {
   "cell_type": "code",
   "execution_count": 10,
   "metadata": {
    "collapsed": false
   },
   "outputs": [],
   "source": [
    "# function to collect sub section name which contains Trump.\n",
    "def getValue(file, keyWords):\n",
    "    config = json.loads(open(file).read())\n",
    "    for x in range(len(config['response']['docs'])):\n",
    "        headline = config['response']['docs'][x]['headline']['main']\n",
    "        if 'Donald Trump' in headline:\n",
    "            for y in range(len(config['response']['docs'][x]['keywords'])):\n",
    "                val = config['response']['docs'][x]['keywords'][y]['value']\n",
    "                keyWords.append(val)\n",
    "\n",
    "    \n",
    "    \n",
    "\n",
    "keyWords = []\n",
    "for directory, subDirectory, filename in os.walk(path):\n",
    "    for file in filename:\n",
    "        getValue(os.path.join(directory, file), keyWords)"
   ]
  },
  {
   "cell_type": "code",
   "execution_count": 11,
   "metadata": {
    "collapsed": false
   },
   "outputs": [],
   "source": [
    "# Writting all KeyWords in text file stored in midterm/que[1-2]/ana_[1-3]/Articles/politicalArticles/keyWords.txt'\n",
    "\n",
    "with open(relativePath+\"/\"+'midterm/que[1-2]/ana_[1-3]/Articles/politicalArticles/keyWords.txt', \"w\") as f:\n",
    "    for keyVal in keyWords:\n",
    "        f.write(keyVal)\n",
    "        f.write(\"\\n\")\n"
   ]
  },
  {
   "cell_type": "code",
   "execution_count": 12,
   "metadata": {
    "collapsed": false
   },
   "outputs": [
    {
     "name": "stdout",
     "output_type": "stream",
     "text": [
      "[('United States Politics and Government', 42), ('Presidential Election of 2016', 11), ('Inaugurations', 10), ('News and News Media', 10), ('Appointments and Executive Changes', 9), ('Republican Party', 8), ('United States International Relations', 8), ('Russia', 7), ('Espionage and Intelligence Services', 6), ('Cyberwarfare and Defense', 5)]\n"
     ]
    }
   ],
   "source": [
    "# Looping through text file in order to find top most 10 sub categories.\n",
    "\n",
    "with open(relativePath+\"/\"+'midterm/que[1-2]/ana_[1-3]/Articles/politicalArticles/keyWords.txt', \"r\") as f:\n",
    "    data = f.readlines()\n",
    "    \n",
    "unique_words = {} # I created a Dictionary to store all unique words.\n",
    "for word in data: # Looped over all Words to find the unique one's and added into the Dictionary.\n",
    "    word = word.replace(\"\\n\", \"\")\n",
    "    if word in unique_words:\n",
    "        unique_words[word] += 1\n",
    "    else:\n",
    "        unique_words[word] = 1\n",
    "        \n",
    "sortedDict = sorted(unique_words.items(), key=lambda x: (-x[1], x[0]))\n",
    "    \n",
    "newList = sortedDict[1:11]\n",
    "print(newList)"
   ]
  },
  {
   "cell_type": "code",
   "execution_count": 13,
   "metadata": {
    "collapsed": false
   },
   "outputs": [],
   "source": [
    "# Ranking on basis of top to last.\n",
    "\n",
    "i = 1\n",
    "newKeyWordList = []\n",
    "\n",
    "# Looping in order to assign rank to each word.\n",
    "for rank in range(len(newList)):\n",
    "    obj1 = newList[rank]\n",
    "    obj1 = obj1 + (i,)\n",
    "    newKeyWordList.append(obj1)\n",
    "    i = i+1\n",
    "    \n",
    "    "
   ]
  },
  {
   "cell_type": "code",
   "execution_count": 14,
   "metadata": {
    "collapsed": false
   },
   "outputs": [],
   "source": [
    "# creating CSV file that contains (Keywords, count, Rank) sorted by Rank.\n",
    "# Stored in midterm/que[1-2]/ana_[1-3]/Articles/result/keyWords.csv\n",
    "\n",
    "fileNameNew = relativePath+\"/\"+'midterm/que[1-2]/ana_[1-3]/Articles/result/keyWords.csv'\n",
    "\n",
    "# Writing the data in to CSV file and storing in D drive.\n",
    "with open(fileNameNew, 'w', newline='') as fp:\n",
    "    a = csv.writer(fp, delimiter=',')\n",
    "    a.writerow([\"KeyWords\", \"Count\", \"Rank\"])\n",
    "    a.writerows(newKeyWordList)"
   ]
  },
  {
   "cell_type": "code",
   "execution_count": 15,
   "metadata": {
    "collapsed": false
   },
   "outputs": [],
   "source": [
    "# Collecting data from csv file and sending to bar graph.\n",
    "key = []\n",
    "count = []\n",
    "rank = []\n",
    "\n",
    "# Reading CSV file in order to generate loglog figure.\n",
    "with open(fileNameNew,'r') as csvfile:\n",
    "    next(csvfile)\n",
    "    plots = csv.reader(csvfile, delimiter=',')\n",
    "    for row in plots:\n",
    "        key.append(str((row[0])))\n",
    "        count.append(int(row[1]))\n",
    "        rank.append(int(row[2]))"
   ]
  },
  {
   "cell_type": "code",
   "execution_count": 16,
   "metadata": {
    "collapsed": false
   },
   "outputs": [
    {
     "data": {
      "image/png": "[encoded data removed]",
      "text/plain": [
       "<matplotlib.figure.Figure at 0x1d35ecbd3c8>"
      ]
     },
     "metadata": {},
     "output_type": "display_data"
    }
   ],
   "source": [
    "# Plotting bar graph showing sub categories.\n",
    "\n",
    "exportFig = relativePath+\"/\"+'midterm/que[1-2]/ana_[1-3]/Articles/result/keyWordsPercent.png'\n",
    "plt.figure(figsize=(15,4))\n",
    "plt.bar(rank, count, align='center', color='green')\n",
    "plt.xticks(rank, key, rotation=90)\n",
    "plt.xlabel(\"Sub Categories of Articles\")\n",
    "plt.ylabel(\"Number of Articles Posted w.r.t Donald Trump\")\n",
    "plt.savefig(exportFig, bbox_inches='tight')\n",
    "plt.show()"
   ]
  },
  {
   "cell_type": "markdown",
   "metadata": {},
   "source": [
    "## Final Conclusion\n",
    "\n",
    "- NYT Posted total of 5206 Articles in JAN'17 out which.\n",
    "- NYT Posted majority of articles related to Politics in Jan'17.\n",
    "- Out of which major was related to Donald Trump.\n",
    "- The Top most sub category was \"UNited states and Politics\" & Second Top was Presidential Election."
   ]
  },
  {
   "cell_type": "code",
   "execution_count": null,
   "metadata": {
    "collapsed": true
   },
   "outputs": [],
   "source": []
  }
 ],
 "metadata": {
  "anaconda-cloud": {},
  "kernelspec": {
   "display_name": "Python 3",
   "language": "python",
   "name": "python3"
  },
  "language_info": {
   "codemirror_mode": {
    "name": "ipython",
    "version": 3
   },
   "file_extension": ".py",
   "mimetype": "text/x-python",
   "name": "python",
   "nbconvert_exporter": "python",
   "pygments_lexer": "ipython3",
   "version": "3.6.0"
  }
 },
 "nbformat": 4,
 "nbformat_minor": 1
}
