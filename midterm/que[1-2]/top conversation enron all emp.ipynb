{
 "cells": [
  {
   "cell_type": "code",
   "execution_count": 28,
   "metadata": {
    "collapsed": true
   },
   "outputs": [],
   "source": [
    "import os\n",
    "import glob\n",
    "import nltk\n",
    "import re\n",
    "import csv\n",
    "from email.parser import Parser\n",
    "from collections import Counter\n",
    "from nltk.tokenize import word_tokenize\n",
    "from nltk.corpus import stopwords\n",
    "\n"
   ]
  },
  {
   "cell_type": "code",
   "execution_count": 42,
   "metadata": {
    "collapsed": false
   },
   "outputs": [
    {
     "name": "stdout",
     "output_type": "stream",
     "text": [
      "['allen', 'arnold', 'arora', 'badeer', 'bailey', 'bass', 'baughman', 'beck', 'benson', 'blair', 'brawner', 'buy', 'campbell', 'carson', 'cash', 'causholli', 'corman', 'crandell', 'cuilla', 'dasovich', 'davis', 'dean', 'delainey', 'derrick', 'dickson', 'donoho', 'donohoe', 'dorland', 'ermis', 'farmer', 'fischer', 'forney', 'fossum', 'gang', 'gay', 'geaccone', 'germany', 'gilbertsmith', 'giron', 'griffith', 'grigsby', 'guzman', 'haedicke', 'hain', 'harris', 'hayslett', 'heard', 'hendrickson', 'hernandez', 'hodge', 'holst', 'horton', 'hyatt', 'hyvl', 'jones', 'kaminski', 'kean', 'keavey', 'keiser', 'king', 'kitchen', 'kuykendall', 'lavorato', 'lay', 'lenhart', 'lewis', 'linder', 'lokay', 'lokey', 'love', 'lucci', 'maggi', 'mann', 'martin', 'may', 'mccarty', 'mcconnell', 'mckay', 'mckay', 'mclaughlin', 'merriss', 'meyers', 'mims-thurston', 'motley', 'neal', 'nemec', 'panus', 'parks', 'pereira', 'perlingiere', 'phanis', 'pimenov', 'platter', 'presto', 'quenet', 'quigley', 'rapp', 'reitmeyer', 'richey', 'ring', 'ring', 'rodrique', 'rogers', 'ruscitti', 'sager', 'saibi', 'salisbury', 'sanchez', 'sanders', 'scholtes', 'schoolcraft', 'schwieger', 'scott', 'semperger', 'shackleton', 'shankman', 'shapiro', 'shively', 'skilling', 'slinger', 'smith', 'solberg', 'south', 'staab', 'stclair', 'steffes', 'stepenovitch', 'stokley', 'storey', 'sturm', 'swerzbin', 'symes', 'taylor', 'tholt', 'thomas', 'townsend', 'tycholiz', 'ward', 'watson', 'weldon', 'whalley', 'whalley', 'white', 'whitt', 'williams', 'williams-', 'wolfe', 'ybarbo', 'zipper', 'zufferli']\n"
     ]
    }
   ],
   "source": [
    "relativePath = os.getcwd()\n",
    "path = relativePath+\"/\"+'midterm/data/ernon/maildir/'\n",
    "to_email_list = []\n",
    "topConList = []\n",
    "empList = []\n",
    "empPath = glob.glob(path+'/*')\n",
    "for x in empPath:\n",
    "    empList.append(x[52:-2])\n"
   ]
  },
  {
   "cell_type": "code",
   "execution_count": 45,
   "metadata": {
    "collapsed": false
   },
   "outputs": [],
   "source": [
    "\n",
    "def createEConList(to_email_list, employee):\n",
    "    topCon = Counter(to_email_list).most_common(1)\n",
    "    # Looping in order to assign rank to each word.\n",
    "    for top in range(len(topCon)):\n",
    "        obj1 = topCon[top]\n",
    "        obj1 = obj1 + (employee,)\n",
    "        topConList.append(obj1)\n",
    "\n",
    "\n",
    "\n",
    "def emailParser(inputFile, employee, to_email_list):\n",
    "    #print(employee)\n",
    "    with open(inputFile, \"r\") as f:\n",
    "        data = f.read()\n",
    "    email = Parser().parsestr(data)\n",
    "    global email_to\n",
    "    if employee in email['From']:\n",
    "        if not email['to'] == None:\n",
    "            email_to = email['To'].replace(\"\\n\", \"\")\n",
    "            email_to = email_to.replace(\"\\t\", \"\")\n",
    "            email_to = email_to.replace(\" \", \"\")\n",
    "            email_to = email_to.split(\",\")\n",
    "        \n",
    "        for email_split in email_to:\n",
    "            to_email_list.append(email_split)\n",
    "    \n",
    "\n",
    "\n",
    "        \n",
    "for employee in empList:\n",
    "    to_email_list = []\n",
    "    for directory, subDirectory, fileNames in os.walk(path):\n",
    "        for filename in fileNames:\n",
    "            emailParser(os.path.join(directory, filename), employee, to_email_list)\n",
    "    createEConList(to_email_list , employee)\n",
    "        \n"
   ]
  },
  {
   "cell_type": "code",
   "execution_count": 46,
   "metadata": {
    "collapsed": false
   },
   "outputs": [
    {
     "name": "stdout",
     "output_type": "stream",
     "text": [
      "[('keith.holst@enron.com', 226, 'allen'), ('ina.rangel@enron.com', 220, 'arnold'), ('harrysarora@yahoo.com', 10, 'arora'), ('tim.belden@enron.com', 40, 'badeer'), ('sara.shackleton@enron.com', 146, 'bailey'), ('bryan.hull@enron.com', 768, 'bass'), ('dean.laurent@enron.com', 149, 'baughman'), ('patti.thompson@enron.com', 405, 'beck'), ('richard.shapiro@enron.com', 84, 'benson'), ('john.buchanan@enron.com', 270, 'blair'), ('jons@amerexenergy.com', 97, 'brawner'), ('ted.murphy@enron.com', 97, 'buy'), ('kay.mann@enron.com', 180, 'campbell'), ('tpape@satake-usa.com', 74, 'carson'), ('twanda.sweet@enron.com', 274, 'cash'), ('e..carter@enron.com', 170, 'causholli'), ('stanley.horton@enron.com', 136, 'corman'), ('martin.cuilla@enron.com', 76, 'cuilla'), ('richard.shapiro@enron.com', 2916, 'dasovich'), ('pete.davis@enron.com', 9144, 'davis'), ('clint.dean@enron.com', 17, 'dean'), ('kay.chapman@enron.com', 314, 'delainey'), ('j.harris@enron.com', 168, 'derrick'), ('gregg.penman@enron.com', 69, 'dickson'), ('tk.lohman@enron.com', 67, 'donoho'), ('kevin.ruscitti@enron.com', 7, 'donohoe'), ('dan.dorland@enron.com', 158, 'dorland'), ('jay.reitmeyer@enron.com', 10, 'ermis'), ('aimee.lannou@enron.com', 242, 'farmer'), ('holden.salisbury@enron.com', 34, 'fischer'), ('portland.shift@enron.com', 117, 'forney'), ('martha.benner@enron.com', 672, 'fossum'), ('jeff.skilling@enron.com', 21, 'gang'), ('robert.superty@enron.com', 123, 'gay'), ('rod.hayslett@enron.com', 161, 'geaccone'), ('victor.lamadrid@enron.com', 639, 'germany'), ('carole.frank@enron.com', 476, 'giron'), ('alexandra.villarreal@enron.com', 74, 'griffith'), ('tori.kuykendall@enron.com', 348, 'grigsby'), ('katie.trullinger@wfsg.com', 292, 'guzman'), ('janette.elbertson@enron.com', 221, 'haedicke'), ('james.steffes@enron.com', 568, 'hain'), ('tana.jones@enron.com', 145, 'harris'), ('tracy.geaccone@enron.com', 225, 'hayslett'), ('tana.jones@enron.com', 224, 'heard'), ('scharnberger-armin@t-online.de', 22, 'hendrickson'), ('suhernan@llgm.com', 304, 'hernandez'), ('energy.dl-ga-all_ubsw@enron.com', 42, 'hodge'), ('john.lavorato@enron.com', 6, 'holst'), ('caron.horton@trinity.edu', 110, 'horton'), ('lmfoust@aol.com', 97, 'hyatt'), ('stacy.dickson@enron.com', 93, 'hyvl'), ('earl.tisdale@enron.com', 1056, 'jones'), ('vkaminski@aol.com', 4867, 'kaminski'), ('maureen.mcvicker@enron.com', 1166, 'kean'), ('annemoisan@hotmail.com', 30, 'keavey'), ('frank.sayre@enron.com', 237, 'keiser'), ('mike.grigsby@enron.com', 126, 'king'), ('john.lavorato@enron.com', 181, 'kitchen'), ('melba.lozano@enron.com', 57, 'kuykendall'), ('john.arnold@enron.com', 194, 'lavorato'), ('richard.shapiro@enron.com', 508, 'lay'), ('mmmarcantel@equiva.com', 504, 'lenhart'), ('diem.hallmark@williams.com', 18, 'lewis'), ('bill.iii@enron.com', 9, 'linder'), ('steven.harris@enron.com', 214, 'lokay'), ('robert.kilmer@enron.com', 27, 'lokey'), ('bruce.mills@enron.com', 550, 'love'), ('christina_122367@hotmail.com', 44, 'lucci'), ('michelle.nelson@enron.com', 452, 'maggi'), ('suzanne.adams@enron.com', 1598, 'mann'), ('vkamins@enron.com', 75, 'martin'), ('mark.guzman@enron.com', 39, 'may'), ('rod.hayslett@enron.com', 30, 'mccarty'), ('jeffrey.shankman@enron.com', 249, 'mcconnell'), ('john.lavorato@enron.com', 34, 'mckay'), ('john.lavorato@enron.com', 34, 'mckay'), ('dutch.quigley@enron.com', 193, 'mclaughlin'), ('daren.farmer@enron.com', 117, 'meyers'), ('benjamin.rogers@enron.com', 371, 'motley'), ('sneal12@mindspring.com', 239, 'neal'), ('eric.gillaspie@enron.com', 214, 'nemec'), ('sara.shackleton@enron.com', 360, 'panus'), ('chet_fenner@bmc.com', 82, 'parks'), ('stevens_hollister@eott.com', 67, 'pereira'), ('russell.diamond@enron.com', 303, 'perlingiere'), ('natalie.bondareva@enron.com', 8, 'pimenov'), ('platter.oregon@verizon.net', 21, 'platter'), ('rogers.herndon@enron.com', 144, 'presto'), ('rebecca.quenet@eds.com', 120, 'quenet'), ('kay.quigley@enron.com', 103, 'quigley'), ('kimberly.watson@enron.com', 75, 'rapp'), ('frank.ermis@enron.com', 18, 'reitmeyer'), ('jhawker@petersco.com', 101, 'richey'), ('tie_list_server@nyiso.com', 95, 'ring'), ('tie_list_server@nyiso.com', 95, 'ring'), ('juan.hernandez@enron.com', 53, 'rodrique'), ('jinsung.myung@enron.com', 207, 'rogers'), ('conway77@vision1mm.com', 48, 'ruscitti'), ('brenda.whitehead@enron.com', 274, 'sager'), ('eric.saibi@enron.com', 15, 'saibi'), ('portland.shift@enron.com', 30, 'salisbury'), ('jmenconi@adv-eng-ser-inc.com', 37, 'sanchez'), ('twanda.sweet@enron.com', 227, 'sanders'), ('sean.crandall@enron.com', 40, 'scholtes'), ('controllers.dl-ets@enron.com', 190, 'schoolcraft'), ('jim.schwieger@enron.com', 69, 'schwieger'), ('jeffery.fawcett@enron.com', 317, 'scott'), ('portland.shift@enron.com', 140, 'semperger'), ('mark.taylor@enron.com', 665, 'shackleton'), ('jennifer.burns@enron.com', 716, 'shankman'), ('steven.kean@enron.com', 477, 'shapiro'), ('airam.arteaga@enron.com', 264, 'shively'), ('all.worldwide@enron.com', 196, 'skilling'), ('portland.shift@enron.com', 28, 'slinger'), ('linguaphile@wordsmith.org', 455, 'smith'), ('portland.shift@enron.com', 51, 'solberg'), ('enerfaxweb@egroups.com', 124, 'south'), ('jay.reitmeyer@enron.com', 27, 'staab'), ('carol.st.clair@enron.com', 6, 'stclair'), ('jeff.dasovich@enron.com', 827, 'steffes'), ('joe.stepenovitch@enron.com', 44, 'stepenovitch'), (\"p..o'neil@enron.com\", 52, 'stokley'), ('gstorey@enron.com', 50, 'storey'), ('tamara.black@enron.com', 32, 'sturm'), ('jill.chatterton@enron.com', 13, 'swerzbin'), ('evelyn.metoyer@enron.com', 940, 'symes'), ('louise.kitchen@enron.com', 508, 'taylor'), ('laurie.ellis@enron.com', 78, 'tholt'), ('sally.beck@enron.com', 130, 'thomas'), ('chris.germany@enron.com', 59, 'townsend'), ('gerald.nemec@enron.com', 73, 'tycholiz'), ('richard.b.sanders@enron.com', 170, 'ward'), ('michelle.lokay@enron.com', 223, 'watson'), ('mark.schlueter@enron.com', 138, 'weldon'), ('john.lavorato@enron.com', 52, 'whalley'), ('john.lavorato@enron.com', 52, 'whalley'), ('casey.evans@enron.com', 322, 'white'), ('barry.tycholiz@enron.com', 119, 'whitt'), ('kate.symes@enron.com', 269, 'williams'), ('matt.motley@enron.com', 3, 'williams-'), ('beth.cherry@enform.com', 35, 'wolfe'), ('mary.hain@enron.com', 2, 'ybarbo'), ('louise.kitchen@enron.com', 35, 'zipper'), ('livia_zufferli@monitor.com', 23, 'zufferli')]\n"
     ]
    }
   ],
   "source": [
    "print(topConList)"
   ]
  },
  {
   "cell_type": "code",
   "execution_count": 47,
   "metadata": {
    "collapsed": true
   },
   "outputs": [],
   "source": [
    "# Checking if data processed folder is exist in directory or not.\n",
    "if os.path.isdir(relativePath+\"/\"+'midterm/que[1-2]/ana_[1-3]/') == 1:\n",
    "    if os.path.isdir(relativePath+\"/\"+'midterm/New folder/Top Conversation/') == 0:\n",
    "        os.makedirs(relativePath+\"/\"+'midterm/New folder/Top Conversation/')\n",
    "# creating CSV file that contains (Word, Frequency, Rank) sorted by Rank.\n",
    "fileName = relativePath+\"/\"+'midterm/New folder/Top Conversation/conversation.csv'\n",
    "\n",
    "\n",
    "\n",
    "\n",
    "#i = 1\n",
    "with open(fileName, 'w', newline='') as fp:\n",
    "    a = csv.writer(fp, delimiter=',')\n",
    "    a.writerow([\"sender 2\", \"count\", \"sender 1\"])\n",
    "    a.writerows(topConList)"
   ]
  },
  {
   "cell_type": "code",
   "execution_count": null,
   "metadata": {
    "collapsed": true
   },
   "outputs": [],
   "source": []
  }
 ],
 "metadata": {
  "kernelspec": {
   "display_name": "Python 3",
   "language": "python",
   "name": "python3"
  },
  "language_info": {
   "codemirror_mode": {
    "name": "ipython",
    "version": 3
   },
   "file_extension": ".py",
   "mimetype": "text/x-python",
   "name": "python",
   "nbconvert_exporter": "python",
   "pygments_lexer": "ipython3",
   "version": "3.6.0"
  }
 },
 "nbformat": 4,
 "nbformat_minor": 2
}
