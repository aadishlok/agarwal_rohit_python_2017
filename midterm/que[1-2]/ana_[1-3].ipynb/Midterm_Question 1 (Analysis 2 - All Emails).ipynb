{
 "cells": [
  {
   "cell_type": "markdown",
   "metadata": {},
   "source": [
    "# This is About:\n",
    "- Analysis on Ernon Emails.\n",
    "- Analysis on TOP [To & FROM] emails in Enron Data Set\n",
    "\n",
    "- In this Analysis-:\n",
    "\n",
    "    - I wil find TOP employee who recieved & sent most emails from directory of Half of Millions emails.\n",
    "    - Then will predict result on those TOP employees.\n",
    "    - Then will Analyse their emails on year basis."
   ]
  },
  {
   "cell_type": "markdown",
   "metadata": {},
   "source": [
    "#### Importing All Libraries"
   ]
  },
  {
   "cell_type": "code",
   "execution_count": 56,
   "metadata": {
    "collapsed": false
   },
   "outputs": [],
   "source": [
    "import os\n",
    "import re\n",
    "import csv\n",
    "import matplotlib.pyplot as p # use to create plot graph.\n",
    "from email.parser import Parser\n",
    "import matplotlib.pyplot as plt\n",
    "from collections import Counter"
   ]
  },
  {
   "cell_type": "markdown",
   "metadata": {},
   "source": [
    "#### Step 1\n",
    "- Data Preparation\n",
    "\n",
    "- I have read \"ALL\" folder of all Employees from the data provided by professor.\n",
    "- Initially the data was in MIME type format.\n",
    "- Lopped through each email and sent to Email Parser (get_payload()) in order to get the \"To\" & \"FROM\".\n",
    "- Stored TO & FROM of all emails in two different List.\n",
    " "
   ]
  },
  {
   "cell_type": "code",
   "execution_count": 152,
   "metadata": {
    "collapsed": false
   },
   "outputs": [
    {
     "name": "stdout",
     "output_type": "stream",
     "text": [
      "To Email Addresses\n",
      "[('richard.shapiro@enron.com', 15797), ('jeff.dasovich@enron.com', 14800), ('steven.kean@enron.com', 13641), ('tana.jones@enron.com', 13211), ('sara.shackleton@enron.com', 11788), ('james.steffes@enron.com', 10772), ('mark.taylor@enron.com', 10134), ('susan.mara@enron.com', 9408), ('pete.davis@enron.com', 9346), ('louise.kitchen@enron.com', 8952)]\n",
      "\n",
      "\n",
      "From Email Addresses\n",
      "[('kay.mann@enron.com', 16735), ('vince.kaminski@enron.com', 14368), ('jeff.dasovich@enron.com', 11411), ('pete.davis@enron.com', 9149), ('chris.germany@enron.com', 8801), ('sara.shackleton@enron.com', 8777), ('enron.announcements@enron.com', 8587), ('tana.jones@enron.com', 8490), ('steven.kean@enron.com', 6759), ('kate.symes@enron.com', 5438)]\n"
     ]
    }
   ],
   "source": [
    "relativePath = os.getcwd()\n",
    "path = relativePath+\"/\"+'midterm/data/ernon/maildir/'\n",
    "\n",
    "\n",
    "\n",
    "def emailParser(inputFile, to_email_list, from_email_list):\n",
    "    with open(inputFile, \"r\") as f:\n",
    "        data = f.read()\n",
    "    email = Parser().parsestr(data)\n",
    "    global email_to\n",
    "    if not email['to'] == None:\n",
    "        email_to = email['To'].replace(\"\\n\", \"\")\n",
    "        email_to = email_to.replace(\"\\t\", \"\")\n",
    "        email_to = email_to.replace(\" \", \"\")\n",
    "        email_to = email_to.split(\",\")\n",
    "        \n",
    "    for email_split in email_to:\n",
    "        to_email_list.append(email_split)\n",
    "        \n",
    "    from_email_list.append(email['From'])\n",
    "    \n",
    "to_email_list = []\n",
    "from_email_list = []\n",
    "\n",
    "for directory, subDirectory, fileNames in os.walk(path):\n",
    "    for filename in fileNames:\n",
    "        emailParser(os.path.join(directory, filename), to_email_list, from_email_list)\n",
    "        \n",
    "print(\"To Email Addresses\")       \n",
    "print(Counter(to_email_list).most_common(10))\n",
    "\n",
    "print(\"\\n\")\n",
    "print(\"From Email Addresses\")       \n",
    "print(Counter(from_email_list).most_common(10))"
   ]
  },
  {
   "cell_type": "markdown",
   "metadata": {},
   "source": [
    "# After seeing the above Result.\n",
    "- We can Predict -: (To Email)\n",
    "    - The top person is Richard Shapiro.\n",
    "    - He was the Vice President and lobbyist (“bribery guy”) for Enron.\n",
    "    - A lot of his emails are about handing dollars to politicians, and getting favourable laws passed.\n",
    "    - The fact that he received the most emails shows he was in touch with everything that was happening.\n",
    "    \n",
    "- (From Email)\n",
    "    - Kay Mann, He is the head of legal for Enron.\n",
    "    - The fact that she sent so many emails is ironical, seeing as how Enron was breaking every law in the book \n",
    "      keep in mind that most employees, including Kay Mann, were innocent.\n",
    "    - Only the top executives were guilty, and most went to prison.\n",
    "    \n",
    "    \n",
    "- Funny Fact:\n",
    "   - A company with such a active legal department, and yet the executives ignored (or didn’t care) about the law at all. "
   ]
  },
  {
   "cell_type": "markdown",
   "metadata": {},
   "source": [
    "#### Step 2\n",
    "- Data Preparation\n",
    "- In this step, I am going to analyse all emails of employee in each category w.r.t year.\n",
    "\n",
    "- Created List of emp name empList = ['shapiro-r', 'mann-k'].\n",
    "- I looped thorugh each employee all folder and saved date in two different list.\n",
    "- Date was in word format but I formatted and collected year with count of emails of each employee.\n",
    "- I stored Year and Count in CSV format that can be find here [midterm/que[1-2]/ana_[1-3]/Top Employee/emp/*.csv]"
   ]
  },
  {
   "cell_type": "code",
   "execution_count": 39,
   "metadata": {
    "collapsed": false,
    "scrolled": false
   },
   "outputs": [],
   "source": [
    "empList = ['shapiro-r', 'mann-k']\n",
    "dateList1 = []\n",
    "dateList2 = []\n",
    "\n",
    "def emailParser(inputFile, dateList1, dateList2, emp):\n",
    "    with open(inputFile, \"r\") as f:\n",
    "        data = f.read()\n",
    "        email = Parser().parsestr(data)\n",
    "        if emp == empList[0]:\n",
    "            dateList1.append(email['date'])\n",
    "            \n",
    "        if emp == empList[1]:\n",
    "            dateList2.append(email['date']) \n",
    "    \n",
    "for emp in empList:\n",
    "    for directory, subDirectory, fileNames in os.walk(path+\"/\"+emp):\n",
    "        for filename in fileNames:\n",
    "            emailParser(os.path.join(directory, filename), dateList1, dateList2, emp)\n",
    "    "
   ]
  },
  {
   "cell_type": "code",
   "execution_count": 40,
   "metadata": {
    "collapsed": false
   },
   "outputs": [
    {
     "name": "stdout",
     "output_type": "stream",
     "text": [
      "Dates\n",
      "[('2001', 5657), ('2000', 365), ('2004', 6), ('2002', 1)]\n",
      "[('2001', 13574), ('2000', 9761), ('1979', 38), ('2002', 4)]\n"
     ]
    }
   ],
   "source": [
    "mergeList1 = []\n",
    "mergeList2 = []\n",
    "\n",
    "for date1 in dateList1:\n",
    "    newDate = re.findall(r'.*([1-3][0-9]{3})', date1)\n",
    "    mergeList1.extend(newDate)\n",
    "    \n",
    "for date2 in dateList2:\n",
    "    newDate = re.findall(r'.*([1-3][0-9]{3})', date2)\n",
    "    mergeList2.extend(newDate)\n",
    "    \n",
    "    \n",
    "print(\"Dates\")       \n",
    "countList1 = Counter(mergeList1).most_common()\n",
    "countList2 = Counter(mergeList2).most_common()\n",
    "print(countList1)\n",
    "print(countList2)"
   ]
  },
  {
   "cell_type": "code",
   "execution_count": 43,
   "metadata": {
    "collapsed": false
   },
   "outputs": [],
   "source": [
    "i = 0.1\n",
    "newDateList1 = []\n",
    "newDateList2 = []\n",
    "\n",
    "# Looping in order to assign rank to each word.\n",
    "for dateL1 in range(len(countList1[:2])):\n",
    "    obj1 = countList1[dateL1]\n",
    "    obj1 = obj1 + (i,)\n",
    "    newDateList1.append(obj1)\n",
    "    i = 0\n",
    "\n",
    "i = 0.1\n",
    "for dateL2 in range(len(countList2[:2])):\n",
    "    obj1 = countList2[dateL2]\n",
    "    obj1 = obj1 + (i,)\n",
    "    newDateList2.append(obj1)\n",
    "    i = 0"
   ]
  },
  {
   "cell_type": "markdown",
   "metadata": {},
   "source": [
    "#### Step 4\n",
    "- In this step, I read csv data from csv file and plotted on pie chart.\n",
    "- Used Matplotlib library to conert number in to % to plot % of emails in particulat year.\n",
    "- These files are stored in [midterm/que[1-2]/ana_[1-3]/Top Employee/emp/result/*.png]"
   ]
  },
  {
   "cell_type": "code",
   "execution_count": 44,
   "metadata": {
    "collapsed": false
   },
   "outputs": [],
   "source": [
    "# Checking if data processed folder is exist in directory or not.\n",
    "if os.path.isdir(relativePath+\"/\"+'midterm/que[1-2]/ana_[1-3]/') == 1:\n",
    "    if os.path.isdir(relativePath+\"/\"+'midterm/que[1-2]/ana_[1-3]/Top Employee/emp') == 0:\n",
    "        os.makedirs(relativePath+\"/\"+'midterm/que[1-2]/ana_[1-3]/Top Employee/emp')\n",
    "\n",
    "# creating CSV file that contains (Word, Frequency, Rank) sorted by Rank.\n",
    "fileNameNew1 = relativePath+\"/\"+'midterm/que[1-2]/ana_[1-3]/Top Employee/emp/'+empList[0]+'.csv'\n",
    "\n",
    "# Writing the data in to CSV file and storing in D drive.\n",
    "with open(fileNameNew1, 'w', newline='') as fp:\n",
    "    a = csv.writer(fp, delimiter=',')\n",
    "    a.writerow([\"Year\", \"Count\", \"explode\"])\n",
    "    a.writerows(newDateList1)\n",
    "    \n",
    "    \n",
    "# creating CSV file that contains (Word, Frequency, Rank) sorted by Rank.\n",
    "fileNameNew2 = relativePath+\"/\"+'midterm/que[1-2]/ana_[1-3]/Top Employee/emp/'+empList[1]+'.csv'\n",
    "\n",
    "# Writing the data in to CSV file and storing in D drive.\n",
    "with open(fileNameNew2, 'w', newline='') as fp:\n",
    "    a = csv.writer(fp, delimiter=',')\n",
    "    a.writerow([\"Year\", \"Count\", \"explode\"])\n",
    "    a.writerows(newDateList2)"
   ]
  },
  {
   "cell_type": "code",
   "execution_count": 50,
   "metadata": {
    "collapsed": true
   },
   "outputs": [],
   "source": [
    "labels1 = []\n",
    "sizes1 = []\n",
    "explode1 = []\n",
    "\n",
    "# Reading CSV file in order to generate loglog figure.\n",
    "with open(fileNameNew1,'r') as csvfile:\n",
    "    next(csvfile)\n",
    "    plots = csv.reader(csvfile, delimiter=',')\n",
    "    for row in plots:\n",
    "        labels1.append(str((row[0])))\n",
    "        sizes1.append(int(row[1]))\n",
    "        explode1.append(float(row[2]))\n",
    "        \n",
    "        \n",
    "\n",
    "labels2 = []\n",
    "sizes2 = []\n",
    "explode2 = []\n",
    "\n",
    "# Reading CSV file in order to generate loglog figure.\n",
    "with open(fileNameNew2,'r') as csvfile:\n",
    "    next(csvfile)\n",
    "    plots = csv.reader(csvfile, delimiter=',')\n",
    "    for row in plots:\n",
    "        labels2.append(str((row[0])))\n",
    "        sizes2.append(int(row[1]))\n",
    "        explode2.append(float(row[2]))"
   ]
  },
  {
   "cell_type": "code",
   "execution_count": 54,
   "metadata": {
    "collapsed": false
   },
   "outputs": [
    {
     "data": {
      "image/png": "[encoded data removed]",
      "text/plain": [
       "<matplotlib.figure.Figure at 0x1dc4d8a7f60>"
      ]
     },
     "metadata": {},
     "output_type": "display_data"
    },
    {
     "data": {
      "image/png": "[encoded data removed]",
      "text/plain": [
       "<matplotlib.figure.Figure at 0x1dc4d5aca20>"
      ]
     },
     "metadata": {},
     "output_type": "display_data"
    }
   ],
   "source": [
    "# Checking if data processed folder is exist in directory or not.\n",
    "if os.path.isdir(relativePath+\"/\"+'midterm/que[1-2]/ana_[1-3]/') == 1:\n",
    "    if os.path.isdir(relativePath+\"/\"+'midterm/que[1-2]/ana_[1-3]/Top Employee/result/') == 0:\n",
    "        os.makedirs(relativePath+\"/\"+'midterm/que[1-2]/ana_[1-3]/Top Employee/result/')\n",
    "\n",
    "pieFig1 = relativePath+\"/\"+'midterm/que[1-2]/ana_[1-3]/Top Employee/result/'+empList[0]+'.png'\n",
    "        \n",
    "fig1, ax1 = plt.subplots()\n",
    "ax1.pie(sizes1, explode=explode1, labels=labels1, autopct='%1.1f%%',\n",
    "        shadow=True, startangle=30)\n",
    "ax1.axis('equal')  # Equal aspect ratio ensures that pie is drawn as a circle.\n",
    "ax1.set_title('Emails per Year (TO) for Top person Richard Shapiro', \n",
    "             bbox={'facecolor':'0.8', 'pad':3})\n",
    "plt.savefig(pieFig1, bbox_inches='tight')\n",
    "plt.show()\n",
    "\n",
    "\n",
    "\n",
    "pieFig2 = relativePath+\"/\"+'midterm/que[1-2]/ana_[1-3]/Top Employee/result/'+empList[1]+'.png'\n",
    "        \n",
    "fig2, ax2 = plt.subplots()\n",
    "ax2.pie(sizes2, explode=explode2, labels=labels2, autopct='%1.1f%%',\n",
    "        shadow=True, startangle=30)\n",
    "ax2.axis('equal')  # Equal aspect ratio ensures that pie is drawn as a circle.\n",
    "ax2.set_title('Emails per Year (FROM) for Top person Kay Mann', \n",
    "             bbox={'facecolor':'0.8', 'pad':3})\n",
    "plt.savefig(pieFig2, bbox_inches='tight')\n",
    "plt.show()"
   ]
  },
  {
   "cell_type": "markdown",
   "metadata": {},
   "source": [
    "#### Conclusion from Above Analysis & Pictures\n",
    "\n",
    "- As we know, The company went bankrupt in year 2001. So, it was obvious that the whole email transaction was occur in same year.\n",
    "- Richard Shapiro, The company Vice President. We can see 94 % of email traffic in year 2001.\n",
    "- Kay Mann, Legal Head. We can see 50% of email traffic, which shows he was not actual the part of Enron. But he was actively involved."
   ]
  }
 ],
 "metadata": {
  "anaconda-cloud": {},
  "kernelspec": {
   "display_name": "Python 3",
   "language": "python",
   "name": "python3"
  },
  "language_info": {
   "codemirror_mode": {
    "name": "ipython",
    "version": 3
   },
   "file_extension": ".py",
   "mimetype": "text/x-python",
   "name": "python",
   "nbconvert_exporter": "python",
   "pygments_lexer": "ipython3",
   "version": "3.6.0"
  }
 },
 "nbformat": 4,
 "nbformat_minor": 1
}
