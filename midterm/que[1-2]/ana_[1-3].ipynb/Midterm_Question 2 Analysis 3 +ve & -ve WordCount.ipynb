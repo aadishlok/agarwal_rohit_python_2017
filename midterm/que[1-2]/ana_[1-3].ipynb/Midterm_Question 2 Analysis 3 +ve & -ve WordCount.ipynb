{
 "cells": [
  {
   "cell_type": "markdown",
   "metadata": {},
   "source": [
    "# Positive & Negative Words Analysis on NYT User Comments for Jan'17\n",
    "\n",
    "- In this I have used Community API from NYT Website"
   ]
  },
  {
   "cell_type": "markdown",
   "metadata": {},
   "source": [
    "#### Importing all libraries"
   ]
  },
  {
   "cell_type": "code",
   "execution_count": 2,
   "metadata": {
    "collapsed": true
   },
   "outputs": [],
   "source": [
    "import requests\n",
    "import json\n",
    "import os\n",
    "import glob\n",
    "import csv\n",
    "import matplotlib.pyplot as plt\n",
    "import re\n",
    "from nltk.tokenize import word_tokenize\n",
    "from nltk.tokenize import sent_tokenize"
   ]
  },
  {
   "cell_type": "markdown",
   "metadata": {},
   "source": [
    "#### Step 1\n",
    "- Data Collection from Community API & Storing midterm/data/community/"
   ]
  },
  {
   "cell_type": "code",
   "execution_count": 4,
   "metadata": {
    "collapsed": false
   },
   "outputs": [],
   "source": [
    "relativePath = os.getcwd()\n",
    "\n",
    "# Checking if data processed folder is exist in directory or not.\n",
    "if os.path.isdir(relativePath+\"/\"+'midterm/data/') == 1:\n",
    "    if os.path.isdir(relativePath+\"/\"+'midterm/data/community/Json Data') == 0:\n",
    "        os.makedirs(relativePath+\"/\"+'midterm/data/community/Json Data')\n",
    "\n",
    "\n",
    "apiKey = os.getenv('nyt_user_api')\n",
    "year = 2017\n",
    "month = 1\n",
    "\n",
    "# Looping through dates in order to find JSON for JAN' 17\n",
    "\n",
    "for x in range(1,31):\n",
    "    dateCreate = str(x)+\"-\"+str(month)+\"-\"+str(year)\n",
    "    url = \"http://api.nytimes.com/svc/community/v3/user-content/by-date.json?&api-key=\" + apiKey + \"&date=\" + dateCreate\n",
    "    response = requests.get(url)\n",
    "    content  = response.json()\n",
    "    with open(relativePath+\"/\"+'midterm/data/community/Json Data'+\"/\"+dateCreate+'.json', 'w') as file:\n",
    "        json.dump(content, file)\n"
   ]
  },
  {
   "cell_type": "markdown",
   "metadata": {},
   "source": [
    "#### Step 2\n",
    "- Data Pre Processing & Stroing useful information"
   ]
  },
  {
   "cell_type": "code",
   "execution_count": 5,
   "metadata": {
    "collapsed": false
   },
   "outputs": [],
   "source": [
    "path = relativePath+\"/\"+'midterm/data/community/Json Data'\n",
    "listOfComments = []\n",
    "\n",
    "# Reading all User Comments from Jan'17 json files.\n",
    "\n",
    "def readJson(file, listOfComments):\n",
    "    # json loads is use to read json data.\n",
    "    config = json.loads(open(file).read())\n",
    "    comment = len(config['results']['comments'])\n",
    "    for x in range(len(config['results']['comments'])):\n",
    "        body = config['results']['comments'][x]['commentBody']\n",
    "        listOfComments.append(body) \n",
    "\n",
    "\n",
    "for directory, subDirectory, filename in os.walk(path):\n",
    "    for file in filename:\n",
    "        readJson(os.path.join(directory, file), listOfComments)"
   ]
  },
  {
   "cell_type": "markdown",
   "metadata": {},
   "source": [
    "#### Step 3\n",
    "- Storing all useful data in midterm/que[1-2]/ana_[1-3]/wordAnalysis/comments"
   ]
  },
  {
   "cell_type": "code",
   "execution_count": 6,
   "metadata": {
    "collapsed": false
   },
   "outputs": [],
   "source": [
    "# Checking if data processed folder is exist in directory or not.\n",
    "if os.path.isdir(relativePath+\"/\"+'midterm/que[1-2]/ana_[1-3]/') == 1:\n",
    "    if os.path.isdir(relativePath+\"/\"+'midterm/que[1-2]/ana_[1-3]/wordAnalysis/comments') == 0:\n",
    "        os.makedirs(relativePath+\"/\"+'midterm/que[1-2]/ana_[1-3]/wordAnalysis/comments')\n",
    "\n",
    "with open(relativePath+\"/\"+'midterm/que[1-2]/ana_[1-3]/wordAnalysis/comments/userComment.txt', \"w\") as f:\n",
    "    for comL in listOfComments:\n",
    "        f.write(comL)"
   ]
  },
  {
   "cell_type": "markdown",
   "metadata": {},
   "source": [
    "#### Step 4\n",
    "- Looped through stored text file in order to find score of sentences.\n",
    "\n",
    "- What is AIFNN.txt?\n",
    "    - AFINN is a list of English words rated for valence with an integer between minus five (negative) and plus five (positive). \n",
    "      The words have been manually labeled by Finn Årup Nielsen in 2009-2011. The file is tab-separated. stored in [midterm/aifnn.txt]\n",
    "        \n",
    "1- I looped Aifnn.txt and created on Dictionary in order to store word with his value.\n",
    "2- I read the text file and splitted each sentence using sen_tokenize.\n",
    "3- Then i Splitted all words from that sentence.\n",
    "4- Using that dictionary I found the score of each word in that sentence. This I have doen for all more than 750 Comments.\n",
    "5- I store the count of +ve & -ve in words in form of tuple."
   ]
  },
  {
   "cell_type": "code",
   "execution_count": 8,
   "metadata": {
    "collapsed": true
   },
   "outputs": [],
   "source": [
    "# creating Dictionary in order to seperate word & score as key & Value\n",
    "sentiment_dict = {}\n",
    "for line in open(relativePath+\"/\"+'midterm/data/AIFNN.txt'):\n",
    "    word, score = line.split(\"\\t\")\n",
    "    sentiment_dict[word] = int(score)\n",
    "   "
   ]
  },
  {
   "cell_type": "markdown",
   "metadata": {},
   "source": [
    "#### Step 5\n",
    "- Preparing data for analysis"
   ]
  },
  {
   "cell_type": "code",
   "execution_count": 13,
   "metadata": {
    "collapsed": false
   },
   "outputs": [
    {
     "name": "stdout",
     "output_type": "stream",
     "text": [
      "[(3, -1), (3, -6), (6, 0), (3, 0), (3, -5), (0, -1), (4, -3), (0, 0), (0, 0), (0, 0)]\n"
     ]
    }
   ],
   "source": [
    "with open(relativePath+\"/\"+'midterm/que[1-2]/ana_[1-3]/wordAnalysis/comments/userComment.txt', \"r\") as f:\n",
    "    data = f.read()\n",
    "    \n",
    "result = []\n",
    "\n",
    "# Looping through each sentence in order to find +ve & -ve score of every sentence.\n",
    "# See output below\n",
    "\n",
    "for s in sent_tokenize(data):\n",
    "    pos = 0\n",
    "    neg = 0\n",
    "    for word in word_tokenize(s):\n",
    "        score = sentiment_dict.get(word, 0)\n",
    "        if score > 0:\n",
    "            pos += score\n",
    "        if score < 0:\n",
    "            neg += score\n",
    "    result.append([pos, neg])\n",
    "\n",
    "    \n",
    "posNeg = []\n",
    "for r in result:\n",
    "    tup = tuple(r)\n",
    "    posNeg.append(tup)\n",
    "print(posNeg[:10])"
   ]
  },
  {
   "cell_type": "markdown",
   "metadata": {},
   "source": [
    "- Result is stored in [que[1-2]/ana_[1-3]/wordAnalysis/result/score.png]\n",
    "- Above picture is showing count of +ve & -ve Score in each sentence. (Cumulative)\n",
    "- Means in one sentence the score of +ve word is x and -ve word is y."
   ]
  },
  {
   "cell_type": "markdown",
   "metadata": {},
   "source": [
    "#### Step 6\n",
    "- Preapring Scatter Plot"
   ]
  },
  {
   "cell_type": "code",
   "execution_count": 14,
   "metadata": {
    "collapsed": false
   },
   "outputs": [],
   "source": [
    "# Checking if data processed folder is exist in directory or not.\n",
    "if os.path.isdir(relativePath+\"/\"+'midterm/que[1-2]/ana_[1-3]/') == 1:\n",
    "    if os.path.isdir(relativePath+\"/\"+'midterm/que[1-2]/ana_[1-3]/wordAnalysis/result') == 0:\n",
    "        os.makedirs(relativePath+\"/\"+'midterm/que[1-2]/ana_[1-3]/wordAnalysis/result')\n",
    "\n",
    "# creating CSV file that contains (Word, Frequency, Rank) sorted by Rank.\n",
    "fileName = relativePath+\"/\"+'midterm/que[1-2]/ana_[1-3]/wordAnalysis/result/posNegCount.csv'\n",
    "\n",
    "# Writing the data in to CSV file and storing in D drive.\n",
    "with open(fileName, 'w', newline='') as fp:\n",
    "    a = csv.writer(fp, delimiter=',')\n",
    "    a.writerow([\"Positive\", \"Negetive\"])\n",
    "    a.writerows(posNeg)"
   ]
  },
  {
   "cell_type": "code",
   "execution_count": 15,
   "metadata": {
    "collapsed": false
   },
   "outputs": [
    {
     "data": {
      "image/png": "[encoded data removed]",
      "text/plain": [
       "<matplotlib.figure.Figure at 0x1fdc9cdafd0>"
      ]
     },
     "metadata": {},
     "output_type": "display_data"
    }
   ],
   "source": [
    "# Now plotting loglog figure.\n",
    "exportFig = relativePath+\"/\"+'midterm/que[1-2]/ana_[1-3]/wordAnalysis/result/posNegGraph.png'\n",
    "x = []\n",
    "y = []\n",
    "\n",
    "\n",
    "# Reading CSV file in order to generate loglog figure.\n",
    "with open(fileName,'r') as csvfile:\n",
    "    next(csvfile)\n",
    "    plots = csv.reader(csvfile, delimiter=',')\n",
    "    for row in plots:\n",
    "        x.append(int(row[0]))\n",
    "        y.append(int(row[1]))\n",
    "\n",
    "plt.scatter(x,y, label='Freq vs Rank', color=['green','red'])\n",
    "plt.xlabel('Positive Count (Green)')\n",
    "plt.ylabel('Negative Count (Red)')\n",
    "plt.title('Plot showing +ve and -ve count of every sentence in User Comments')\n",
    "plt.legend\n",
    "\n",
    "# storing figure in png file and stored in D drive.\n",
    "plt.savefig(exportFig, bbox_inches='tight')\n",
    "plt.show()"
   ]
  },
  {
   "cell_type": "markdown",
   "metadata": {},
   "source": [
    "- Result is stored in [que[1-2]/ana_[1-3]/wordAnalysis/result/posNegGraph.png]\n",
    "- The above scatter is showing sentences w.r.t +ve & -ve words.\n",
    "- Now, In next step I have plotted over all count of +ve & -ve Words on pie chart. See attched image. "
   ]
  },
  {
   "cell_type": "markdown",
   "metadata": {},
   "source": [
    "#### Step 7\n",
    "- Preparing data for Bar Chart based on Scatter Plot."
   ]
  },
  {
   "cell_type": "code",
   "execution_count": 16,
   "metadata": {
    "collapsed": false
   },
   "outputs": [
    {
     "data": {
      "image/png": "[encoded data removed]",
      "text/plain": [
       "<matplotlib.figure.Figure at 0x1fdc9cdaac8>"
      ]
     },
     "metadata": {},
     "output_type": "display_data"
    }
   ],
   "source": [
    "pieFig = relativePath+\"/\"+'midterm/que[1-2]/ana_[1-3]/wordAnalysis/result/percentWord.png'\n",
    "positiveWords = sum(x)\n",
    "negativeWords = sum(y)\n",
    "negativeWords = str(negativeWords)\n",
    "# Pie chart, where the slices will be ordered and plotted counter-clockwise:\n",
    "labels = 'Positive Words', 'Negative Words'\n",
    "sizes = [positiveWords, negativeWords[1:]]\n",
    "explode = (0, 0.1)  # only \"explode\" the 2nd slice (i.e. '-ve Words')\n",
    "\n",
    "fig1, ax1 = plt.subplots()\n",
    "ax1.pie(sizes, explode=explode, labels=labels, autopct='%1.1f%%',\n",
    "        shadow=True, startangle=90)\n",
    "ax1.axis('equal')  # Equal aspect ratio ensures that pie is drawn as a circle.\n",
    "plt.savefig(pieFig, bbox_inches='tight')\n",
    "plt.show()"
   ]
  },
  {
   "cell_type": "markdown",
   "metadata": {},
   "source": [
    "#### Conclusion from Above Analysis (we can predict)\n",
    "\n",
    "- In january User use more -ve words w.r.t +ve words.\n",
    "- The count of -ve word is more may be is vary month to month.\n",
    "- After seeing scatter plot I can say for every sentence count of -ve words is more than +ve words."
   ]
  }
 ],
 "metadata": {
  "kernelspec": {
   "display_name": "Python 3",
   "language": "python",
   "name": "python3"
  },
  "language_info": {
   "codemirror_mode": {
    "name": "ipython",
    "version": 3
   },
   "file_extension": ".py",
   "mimetype": "text/x-python",
   "name": "python",
   "nbconvert_exporter": "python",
   "pygments_lexer": "ipython3",
   "version": "3.6.0"
  }
 },
 "nbformat": 4,
 "nbformat_minor": 2
}
