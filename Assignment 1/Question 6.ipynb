{
 "cells": [
  {
   "cell_type": "markdown",
   "metadata": {},
   "source": [
    "# Question 6\n",
    "- Under Inaugural Address package\n",
    "- For every president, find out how many unique words they used in speech. \n",
    "- We will just assume that President Bush means one person (technically it is incorrect but we will ignore it)\n"
   ]
  },
  {
   "cell_type": "code",
   "execution_count": 24,
   "metadata": {
    "collapsed": false,
    "scrolled": true
   },
   "outputs": [
    {
     "name": "stdout",
     "output_type": "stream",
     "text": [
      "['1789-Washington.txt', '1793-Washington.txt', '1797-Adams.txt', '1801-Jefferson.txt', '1805-Jefferson.txt', '1809-Madison.txt', '1813-Madison.txt', '1817-Monroe.txt', '1821-Monroe.txt', '1825-Adams.txt', '1829-Jackson.txt', '1833-Jackson.txt', '1837-VanBuren.txt', '1841-Harrison.txt', '1845-Polk.txt', '1849-Taylor.txt', '1853-Pierce.txt', '1857-Buchanan.txt', '1861-Lincoln.txt', '1865-Lincoln.txt', '1869-Grant.txt', '1873-Grant.txt', '1877-Hayes.txt', '1881-Garfield.txt', '1885-Cleveland.txt', '1889-Harrison.txt', '1893-Cleveland.txt', '1897-McKinley.txt', '1901-McKinley.txt', '1905-Roosevelt.txt', '1909-Taft.txt', '1913-Wilson.txt', '1917-Wilson.txt', '1921-Harding.txt', '1925-Coolidge.txt', '1929-Hoover.txt', '1933-Roosevelt.txt', '1937-Roosevelt.txt', '1941-Roosevelt.txt', '1945-Roosevelt.txt', '1949-Truman.txt', '1953-Eisenhower.txt', '1957-Eisenhower.txt', '1961-Kennedy.txt', '1965-Johnson.txt', '1969-Nixon.txt', '1973-Nixon.txt', '1977-Carter.txt', '1981-Reagan.txt', '1985-Reagan.txt', '1989-Bush.txt', '1993-Clinton.txt', '1997-Clinton.txt', '2001-Bush.txt', '2005-Bush.txt', '2009-Obama.txt']\n"
     ]
    }
   ],
   "source": [
    "import nltk # importing nltk\n",
    "inaugural = nltk.corpus.inaugural # importing inaugural from nltk\n",
    "speech = inaugural.fileids() \n",
    "print(speech) # Printing all the files from inaugural Corpus"
   ]
  },
  {
   "cell_type": "code",
   "execution_count": 94,
   "metadata": {
    "collapsed": false
   },
   "outputs": [
    {
     "name": "stdout",
     "output_type": "stream",
     "text": [
      "['Bush', 'Nixon', 'Obama', 'Pierce', 'Wilson', 'Jefferson', 'Buchanan', 'Hayes', 'Adams', 'Hoover', 'Taft', 'Washington', 'Eisenhower', 'VanBuren', 'McKinley', 'Clinton', 'Johnson', 'Taylor', 'Roosevelt', 'Jackson', 'Coolidge', 'Kennedy', 'Harrison', 'Garfield', 'Cleveland', 'Grant', 'Polk', 'Truman', 'Monroe', 'Reagan', 'Harding', 'Madison', 'Lincoln', 'Carter']\n"
     ]
    }
   ],
   "source": [
    "pList = [] # Empty list for adding all president name.\n",
    "for file in speech: # Looping for loop in order to get only president name;\n",
    "    pList.append(file[5:-4])\n",
    "uniqueList = list(set(pList)) # Finding all unique President name from the President name List.\n",
    "print(uniqueList)"
   ]
  },
  {
   "cell_type": "code",
   "execution_count": 99,
   "metadata": {
    "collapsed": false
   },
   "outputs": [
    {
     "name": "stdout",
     "output_type": "stream",
     "text": [
      "Unique Words used by President\n",
      "Bush is -: 1578\n",
      "Nixon is -: 1037\n",
      "Obama is -: 938\n",
      "Pierce is -: 1168\n",
      "Wilson is -: 996\n",
      "Jefferson is -: 1261\n",
      "Buchanan is -: 948\n",
      "Hayes is -: 832\n",
      "Adams is -: 1503\n",
      "Hoover is -: 1087\n",
      "Taft is -: 1439\n",
      "Washington is -: 663\n",
      "Eisenhower is -: 1250\n",
      "VanBuren is -: 1318\n",
      "McKinley is -: 1682\n",
      "Clinton is -: 1138\n",
      "Johnson is -: 571\n",
      "Taylor is -: 499\n",
      "Roosevelt is -: 1704\n",
      "Jackson is -: 846\n",
      "Coolidge is -: 1221\n",
      "Kennedy is -: 570\n",
      "Harrison is -: 2662\n",
      "Garfield is -: 1022\n",
      "Cleveland is -: 1219\n",
      "Grant is -: 855\n",
      "Polk is -: 1333\n",
      "Truman is -: 781\n",
      "Monroe is -: 1781\n",
      "Reagan is -: 1453\n",
      "Harding is -: 1170\n",
      "Madison is -: 899\n",
      "Lincoln is -: 1261\n",
      "Carter is -: 529\n"
     ]
    }
   ],
   "source": [
    "print('Unique Words used by President')\n",
    "for president in uniqueList: # First Loop which has length 34 carrying all President name.\n",
    "    wordCount = [] # Empty list for conating all words used in speech.\n",
    "    for uPresident in speech: # Second Loop has length 56 conating all text file.\n",
    "        if uPresident[5:-4] == president: # Checking President Name exist in Text file. \n",
    "            wordCount.extend(inaugural.words(uPresident)) # if it exits get all the words from text file and extend.\n",
    "    print(president, 'is -:', len(set(wordCount))) # calculate the length of unique words used in speech."
   ]
  },
  {
   "cell_type": "code",
   "execution_count": null,
   "metadata": {
    "collapsed": true
   },
   "outputs": [],
   "source": []
  }
 ],
 "metadata": {
  "anaconda-cloud": {},
  "kernelspec": {
   "display_name": "Python [default]",
   "language": "python",
   "name": "python3"
  },
  "language_info": {
   "codemirror_mode": {
    "name": "ipython",
    "version": 3
   },
   "file_extension": ".py",
   "mimetype": "text/x-python",
   "name": "python",
   "nbconvert_exporter": "python",
   "pygments_lexer": "ipython3",
   "version": "3.5.2"
  }
 },
 "nbformat": 4,
 "nbformat_minor": 1
}
