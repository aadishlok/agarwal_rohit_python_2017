{
 "cells": [
  {
   "cell_type": "markdown",
   "metadata": {},
   "source": [
    "# Question 7\n",
    "- Use Name corpus, calculate the probability of a name being of a male or female base on the last character(s) of name.\n",
    "- Sample steps:\n",
    "- For char ‘a’:\n",
    "\ttotal_names = sum(names ending with ‘a’)\n",
    "\tmale_names = sum(male names ending with ‘a’)\n",
    "\tfemale_names = sum(female names ending with ‘a’)\n",
    "\tProbability of name being male = 100 * male_names / total_names\n",
    "- 2. Do this for all characters. \n",
    "- Output must come with proper title (e.g. [a] male: 25%, female: 60%)\n"
   ]
  },
  {
   "cell_type": "code",
   "execution_count": 2,
   "metadata": {
    "collapsed": false
   },
   "outputs": [
    {
     "data": {
      "text/plain": [
       "['female.txt', 'male.txt']"
      ]
     },
     "execution_count": 2,
     "metadata": {},
     "output_type": "execute_result"
    }
   ],
   "source": [
    "import nltk # import nltk library\n",
    "file = nltk.corpus.names # get Names Corpus\n",
    "file.fileids() # get all files from Names corpus"
   ]
  },
  {
   "cell_type": "code",
   "execution_count": 70,
   "metadata": {
    "collapsed": false
   },
   "outputs": [
    {
     "name": "stdout",
     "output_type": "stream",
     "text": [
      "[1773, 9, 0, 39, 1432, 2, 10, 105, 317, 1, 3, 179, 13, 386, 33, 2, 0, 47, 93, 68, 6, 2, 5, 10, 461, 4]\n"
     ]
    }
   ],
   "source": [
    "word = file.words('female.txt')\n",
    "# Loop through every character and get the count of female names ends with a to z.\n",
    "alpha = ['a', 'b', 'c', 'd', 'e', 'f', 'g', 'h', 'i', 'j', 'k', 'l', 'm', 'n', 'o', 'p', 'q', 'r', 's', 't', 'u', 'v', 'w', 'x', 'y', 'z']\n",
    "femaleCount = []\n",
    "for al in alpha:\n",
    "    femaleList = []\n",
    "    for female in word:\n",
    "        if female.endswith(al):\n",
    "            femaleList.append(female)                \n",
    "    femaleCount.append(len(femaleList))\n",
    "print(femaleCount) # count of female name a to z stored in List."
   ]
  },
  {
   "cell_type": "code",
   "execution_count": 71,
   "metadata": {
    "collapsed": false
   },
   "outputs": [
    {
     "name": "stdout",
     "output_type": "stream",
     "text": [
      "[29, 21, 25, 228, 468, 25, 32, 93, 50, 3, 69, 187, 70, 478, 165, 18, 0, 190, 230, 164, 12, 16, 17, 10, 332, 11]\n"
     ]
    }
   ],
   "source": [
    "wordMale = file.words('male.txt')\n",
    "# Loop through every character and get the count of male names ends with a to z\n",
    "maleCount = []\n",
    "for al in alpha:\n",
    "    maleList = []\n",
    "    for male in wordMale:\n",
    "        if male.endswith(al):\n",
    "            maleList.append(male)                \n",
    "    maleCount.append(len(maleList))\n",
    "print(maleCount) # count of male name a to z stored in List."
   ]
  },
  {
   "cell_type": "code",
   "execution_count": 83,
   "metadata": {
    "collapsed": false
   },
   "outputs": [
    {
     "name": "stdout",
     "output_type": "stream",
     "text": [
      "[1802, 30, 25, 267, 1900, 27, 42, 198, 367, 4, 72, 366, 83, 864, 198, 20, 0, 237, 323, 232, 18, 18, 22, 20, 793, 15]\n"
     ]
    }
   ],
   "source": [
    "totalCount = [fCount[i] + mCount[i] for i in range(len(fCount))] # totalCount of male and female name ending with a to z\n",
    "print(totalCount) # list containing totzal count."
   ]
  },
  {
   "cell_type": "code",
   "execution_count": 85,
   "metadata": {
    "collapsed": false
   },
   "outputs": [
    {
     "name": "stdout",
     "output_type": "stream",
     "text": [
      "['a'] Male 1.61 % and Female 98.39 %\n",
      "['b'] Male 70.00 % and Female 30.00 %\n",
      "['c'] Male 100.00 % and Female 0.00 %\n",
      "['d'] Male 85.39 % and Female 14.61 %\n",
      "['e'] Male 24.63 % and Female 75.37 %\n",
      "['f'] Male 92.59 % and Female 7.41 %\n",
      "['g'] Male 76.19 % and Female 23.81 %\n",
      "['h'] Male 46.97 % and Female 53.03 %\n",
      "['i'] Male 13.62 % and Female 86.38 %\n",
      "['j'] Male 75.00 % and Female 25.00 %\n",
      "['k'] Male 95.83 % and Female 4.17 %\n",
      "['l'] Male 51.09 % and Female 48.91 %\n",
      "['m'] Male 84.34 % and Female 15.66 %\n",
      "['n'] Male 55.32 % and Female 44.68 %\n",
      "['o'] Male 83.33 % and Female 16.67 %\n",
      "['p'] Male 90.00 % and Female 10.00 %\n",
      "['q'] Male 0.00 % and Female 0.00 %\n",
      "['r'] Male 80.17 % and Female 19.83 %\n",
      "['s'] Male 71.21 % and Female 28.79 %\n",
      "['t'] Male 70.69 % and Female 29.31 %\n",
      "['u'] Male 66.67 % and Female 33.33 %\n",
      "['v'] Male 88.89 % and Female 11.11 %\n",
      "['w'] Male 77.27 % and Female 22.73 %\n",
      "['x'] Male 50.00 % and Female 50.00 %\n",
      "['y'] Male 41.87 % and Female 58.13 %\n",
      "['z'] Male 73.33 % and Female 26.67 %\n"
     ]
    }
   ],
   "source": [
    "# Looping all A to Z characters and calculating Probability of male and female names using formula.\n",
    "for x in range(len(femaleCount)):\n",
    "    if totalCount[x] != 0:\n",
    "        \n",
    "        fProb = 100 * femaleCount[x] / totalCount[x]\n",
    "        mProb = 100 * maleCount[x] / totalCount[x]\n",
    "    else:\n",
    "        fProb = 0\n",
    "        mProb = 0\n",
    "\n",
    "    print([alpha[x]], 'Male',\"%.2f\" % round(mProb,2), '% and', 'Female',\"%.2f\" % round(fProb,2), '%') # showing A to Z probability of male and female names."
   ]
  }
 ],
 "metadata": {
  "anaconda-cloud": {},
  "kernelspec": {
   "display_name": "Python [default]",
   "language": "python",
   "name": "python3"
  },
  "language_info": {
   "codemirror_mode": {
    "name": "ipython",
    "version": 3
   },
   "file_extension": ".py",
   "mimetype": "text/x-python",
   "name": "python",
   "nbconvert_exporter": "python",
   "pygments_lexer": "ipython3",
   "version": "3.5.2"
  }
 },
 "nbformat": 4,
 "nbformat_minor": 1
}
