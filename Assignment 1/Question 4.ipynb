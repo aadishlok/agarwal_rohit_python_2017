{
 "cells": [
  {
   "cell_type": "markdown",
   "metadata": {},
   "source": [
    "# Question 4\n",
    "- Under package nps_chat, see what files are in it.\n",
    "- Find 'user121' and see how many posts he posted in all.\n",
    "- Find out how many unique user in each age range group. (20s, 30s,...)(Hint: files' name)\n",
    "\n"
   ]
  },
  {
   "cell_type": "code",
   "execution_count": 1,
   "metadata": {
    "collapsed": false
   },
   "outputs": [
    {
     "data": {
      "text/plain": [
       "['10-19-20s_706posts.xml',\n",
       " '10-19-30s_705posts.xml',\n",
       " '10-19-40s_686posts.xml',\n",
       " '10-19-adults_706posts.xml',\n",
       " '10-24-40s_706posts.xml',\n",
       " '10-26-teens_706posts.xml',\n",
       " '11-06-adults_706posts.xml',\n",
       " '11-08-20s_705posts.xml',\n",
       " '11-08-40s_706posts.xml',\n",
       " '11-08-adults_705posts.xml',\n",
       " '11-08-teens_706posts.xml',\n",
       " '11-09-20s_706posts.xml',\n",
       " '11-09-40s_706posts.xml',\n",
       " '11-09-adults_706posts.xml',\n",
       " '11-09-teens_706posts.xml']"
      ]
     },
     "execution_count": 1,
     "metadata": {},
     "output_type": "execute_result"
    }
   ],
   "source": [
    "import nltk # Importing NLTK\n",
    "nps = nltk.corpus.nps_chat\n",
    "nps.fileids() # Getting all files from nps_chat"
   ]
  },
  {
   "cell_type": "code",
   "execution_count": 23,
   "metadata": {
    "collapsed": false,
    "scrolled": true
   },
   "outputs": [
    {
     "name": "stdout",
     "output_type": "stream",
     "text": [
      "Total post posted by User 121 are-: 132\n"
     ]
    }
   ],
   "source": [
    "xml = nps.xml_posts() # Getting post data from all nps_chat files.\n",
    "#Looping through xml data in order to find User121.\n",
    "user121 = 0\n",
    "for post in xml:\n",
    "    if post.get('user').endswith('User121'):\n",
    "        user121 = user121 + 1\n",
    "print('Total post posted by User 121 are-:', user121) # we can see there are 132 user121 in all nps_chat files."
   ]
  },
  {
   "cell_type": "code",
   "execution_count": 24,
   "metadata": {
    "collapsed": false
   },
   "outputs": [
    {
     "name": "stdout",
     "output_type": "stream",
     "text": [
      "Unique User in age group of 10-19-20s are-: 100\n",
      "Unique User in age group of 10-19-30s are-: 44\n",
      "Unique User in age group of 10-19-40s are-: 55\n",
      "Unique User in age group of 10-19-adults are-: 50\n",
      "Unique User in age group of 10-24-40s are-: 50\n",
      "Unique User in age group of 10-26-teens are-: 136\n",
      "Unique User in age group of 11-06-adults are-: 94\n",
      "Unique User in age group of 11-08-20s are-: 79\n",
      "Unique User in age group of 11-08-40s are-: 73\n",
      "Unique User in age group of 11-08-adults are-: 114\n",
      "Unique User in age group of 11-08-teens are-: 139\n",
      "Unique User in age group of 11-09-20s are-: 126\n",
      "Unique User in age group of 11-09-40s are-: 50\n",
      "Unique User in age group of 11-09-adults are-: 99\n",
      "Unique User in age group of 11-09-teens are-: 168\n"
     ]
    }
   ],
   "source": [
    "# to find unique user in all nps_chat files.\n",
    "file = nps.fileids()\n",
    "dates = []\n",
    "\n",
    "# looping through all files to trip age group.\n",
    "for date in file:\n",
    "    dates.append(date[0:-13])\n",
    "    \n",
    "# Looping throug age group and xml data in order to find unique users in every age.\n",
    "for y in range(len(dates)):\n",
    "    userInfo = []\n",
    "    for user in xml:\n",
    "        if user.get('user').startswith(dates[y]):\n",
    "            userInfo.append(user.get('user'))\n",
    "    print('Unique User in age group of', dates[y], 'are-:', len(set(userInfo))) # count of all unique user in each group.\n",
    "           "
   ]
  },
  {
   "cell_type": "code",
   "execution_count": null,
   "metadata": {
    "collapsed": true
   },
   "outputs": [],
   "source": []
  }
 ],
 "metadata": {
  "anaconda-cloud": {},
  "kernelspec": {
   "display_name": "Python [default]",
   "language": "python",
   "name": "python3"
  },
  "language_info": {
   "codemirror_mode": {
    "name": "ipython",
    "version": 3
   },
   "file_extension": ".py",
   "mimetype": "text/x-python",
   "name": "python",
   "nbconvert_exporter": "python",
   "pygments_lexer": "ipython3",
   "version": "3.5.2"
  }
 },
 "nbformat": 4,
 "nbformat_minor": 1
}
