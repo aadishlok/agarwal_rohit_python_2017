{
 "cells": [
  {
   "cell_type": "markdown",
   "metadata": {},
   "source": [
    "# Question 4\n",
    "- Under package nps_chat, see what files are in it.\n",
    "- Find 'user121' and see how many posts he posted in all.\n",
    "- Find out how many unique user in each age range group. (20s, 30s,...)(Hint: files' name)\n",
    "\n"
   ]
  },
  {
   "cell_type": "code",
   "execution_count": 7,
   "metadata": {
    "collapsed": false
   },
   "outputs": [
    {
     "name": "stdout",
     "output_type": "stream",
     "text": [
      "['10-19-20s_706posts.xml', '10-19-30s_705posts.xml', '10-19-40s_686posts.xml', '10-19-adults_706posts.xml', '10-24-40s_706posts.xml', '10-26-teens_706posts.xml', '11-06-adults_706posts.xml', '11-08-20s_705posts.xml', '11-08-40s_706posts.xml', '11-08-adults_705posts.xml', '11-08-teens_706posts.xml', '11-09-20s_706posts.xml', '11-09-40s_706posts.xml', '11-09-adults_706posts.xml', '11-09-teens_706posts.xml']\n"
     ]
    }
   ],
   "source": [
    "import nltk # Importing NLTK\n",
    "nps = nltk.corpus.nps_chat\n",
    "chat = nps.fileids() # Getting all files from nps_chat\n",
    "print(chat)"
   ]
  },
  {
   "cell_type": "code",
   "execution_count": 3,
   "metadata": {
    "collapsed": false,
    "scrolled": true
   },
   "outputs": [
    {
     "name": "stdout",
     "output_type": "stream",
     "text": [
      "Total post posted by User 121 are-: 132\n"
     ]
    }
   ],
   "source": [
    "xml = nps.xml_posts() # Getting post data from all nps_chat files.\n",
    "#Looping through xml data in order to find User121.\n",
    "user121 = 0\n",
    "for post in xml:\n",
    "    if post.get('user').endswith('User121'):\n",
    "        user121 = user121 + 1\n",
    "print('Total post posted by User 121 are-:', user121) # we can see there are 132 user121 in all nps_chat files."
   ]
  },
  {
   "cell_type": "code",
   "execution_count": 14,
   "metadata": {
    "collapsed": false
   },
   "outputs": [
    {
     "name": "stdout",
     "output_type": "stream",
     "text": [
      "Unique Word Count in Age Group 30s are -: 902\n",
      "Unique Word Count in Age Group 20s are -: 2054\n",
      "Unique Word Count in Age Group 40s are -: 2339\n",
      "Unique Word Count in Age Group teens are -: 1851\n",
      "Unique Word Count in Age Group adults are -: 2489\n"
     ]
    }
   ],
   "source": [
    "# to find unique user in all nps_chat files.\n",
    "file = nps.fileids()\n",
    "dates = []\n",
    "\n",
    "# looping through all files to trip age group.\n",
    "for date in file:\n",
    "    dates.append(date[6:-13])\n",
    "    \n",
    "uniqueAge = set(dates)\n",
    "for x in uniqueAge:  #First Loop which has length 5 carrying all Unique Age Group.\n",
    "    wordCount = [] # Empty list for containing all words used in chat.\n",
    "    for y in chat: # Second Loop conating all text file.\n",
    "        if y[6:-13] == x: # Checking Age Group exist in Text file. \n",
    "            wordCount.extend(nps.words(y)) # if it exits get all the words from text file and extend.\n",
    "    print('Unique Word Count in Age Group', x, 'are -:', len(set(wordCount))) # calculate the length of unique words used in chat.\n",
    "        \n",
    "           "
   ]
  },
  {
   "cell_type": "code",
   "execution_count": null,
   "metadata": {
    "collapsed": true
   },
   "outputs": [],
   "source": []
  }
 ],
 "metadata": {
  "anaconda-cloud": {},
  "kernelspec": {
   "display_name": "Python [default]",
   "language": "python",
   "name": "python3"
  },
  "language_info": {
   "codemirror_mode": {
    "name": "ipython",
    "version": 3
   },
   "file_extension": ".py",
   "mimetype": "text/x-python",
   "name": "python",
   "nbconvert_exporter": "python",
   "pygments_lexer": "ipython3",
   "version": "3.5.2"
  }
 },
 "nbformat": 4,
 "nbformat_minor": 1
}
