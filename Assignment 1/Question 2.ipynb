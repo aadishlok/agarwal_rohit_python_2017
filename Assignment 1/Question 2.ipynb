{
 "cells": [
  {
   "cell_type": "markdown",
   "metadata": {},
   "source": [
    "# Question 2\n",
    "- Under package Gutenberg get content from file 'melville-moby_dick.txt.' (HINT: Words? Raw?)\n",
    "- Find out frequency of 26 characters. (Turn uppercase into lowercase and count as one character)\n",
    "- List all 26 characters in order base on their frequency. (From most frequent to least frequent)\u000b",
    "\n",
    "- Try NOT to use FreqDist module.\n",
    "\n"
   ]
  },
  {
   "cell_type": "code",
   "execution_count": 4,
   "metadata": {
    "collapsed": false
   },
   "outputs": [],
   "source": [
    "import nltk #first import nltk\n",
    "import string # import string library.\n",
    "gutenberg = nltk.corpus.gutenberg # import package gutenberg\n",
    "gutenberg.fileids() # get all files from Gutenberg library\n",
    "letter = string.ascii_lowercase # importing ascii lowercase from string."
   ]
  },
  {
   "cell_type": "code",
   "execution_count": 8,
   "metadata": {
    "collapsed": false
   },
   "outputs": [
    {
     "name": "stdout",
     "output_type": "stream",
     "text": [
      "Frequency of all Alphabets a-z\n",
      "['e'] - 117092\n",
      "['v'] - 8598\n",
      "['b'] - 16877\n",
      "['q'] - 1556\n",
      "['s'] - 64231\n",
      "['l'] - 42793\n",
      "['j'] - 1082\n",
      "['g'] - 20820\n",
      "['p'] - 17255\n",
      "['y'] - 16872\n",
      "['z'] - 632\n",
      "['a'] - 77916\n",
      "['t'] - 87996\n",
      "['d'] - 38219\n",
      "['k'] - 8059\n",
      "['h'] - 62896\n",
      "['w'] - 22222\n",
      "['i'] - 65434\n",
      "['x'] - 1030\n",
      "['c'] - 22507\n",
      "['n'] - 65617\n",
      "['f'] - 20833\n",
      "['o'] - 69326\n",
      "['u'] - 26697\n",
      "['m'] - 23277\n",
      "['r'] - 52134\n"
     ]
    }
   ],
   "source": [
    "rawData = gutenberg.raw('melville-moby_dick.txt')\n",
    "\n",
    "#Creating a empty dictionary\n",
    "letterFreq = {}\n",
    "#Looping to get the frequency\n",
    "for freq in letter:\n",
    "    letterFreq[freq] = rawData.lower().count(freq)\n",
    "\n",
    "print('Frequency of all Alphabets a-z')    \n",
    "\n",
    "for key, value in Calfreq.items():\n",
    "    print([key],'-',value)"
   ]
  },
  {
   "cell_type": "code",
   "execution_count": 9,
   "metadata": {
    "collapsed": false
   },
   "outputs": [
    {
     "name": "stdout",
     "output_type": "stream",
     "text": [
      "Frequency of all Alphabets a-z sorted in Descending Order\n",
      "e - 117092\n",
      "t - 87996\n",
      "a - 77916\n",
      "o - 69326\n",
      "n - 65617\n",
      "i - 65434\n",
      "s - 64231\n",
      "h - 62896\n",
      "r - 52134\n",
      "l - 42793\n",
      "d - 38219\n",
      "u - 26697\n",
      "m - 23277\n",
      "c - 22507\n",
      "w - 22222\n",
      "f - 20833\n",
      "g - 20820\n",
      "p - 17255\n",
      "b - 16877\n",
      "y - 16872\n",
      "v - 8598\n",
      "k - 8059\n",
      "q - 1556\n",
      "j - 1082\n",
      "x - 1030\n",
      "z - 632\n"
     ]
    }
   ],
   "source": [
    "#Sorted List\n",
    "sort = [(key1, Calfreq[key1]) for key1 in sorted(Calfreq, key=Calfreq.get, reverse=True)]\n",
    "count = 0\n",
    "print('Frequency of all Alphabets a-z sorted in Descending Order') \n",
    "for key1, value1 in sort:\n",
    "    print(key1,'-',value1)"
   ]
  }
 ],
 "metadata": {
  "anaconda-cloud": {},
  "kernelspec": {
   "display_name": "Python [default]",
   "language": "python",
   "name": "python3"
  },
  "language_info": {
   "codemirror_mode": {
    "name": "ipython",
    "version": 3
   },
   "file_extension": ".py",
   "mimetype": "text/x-python",
   "name": "python",
   "nbconvert_exporter": "python",
   "pygments_lexer": "ipython3",
   "version": "3.5.2"
  }
 },
 "nbformat": 4,
 "nbformat_minor": 1
}
